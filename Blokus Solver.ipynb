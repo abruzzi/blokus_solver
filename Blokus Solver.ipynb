{
 "metadata": {
  "name": "",
  "signature": "sha256:649f13aa392e5637326986ea239aab16d884eee30bf7d69a2b32b9913aaf9e95"
 },
 "nbformat": 3,
 "nbformat_minor": 0,
 "worksheets": [
  {
   "cells": [
    {
     "cell_type": "markdown",
     "metadata": {},
     "source": [
      "<center>\n",
      "<img src=\"http://i983.photobucket.com/albums/ae316/cleardragon/bl.jpg\">\n",
      "</center>\n",
      "<br>"
     ]
    },
    {
     "cell_type": "heading",
     "level": 1,
     "metadata": {},
     "source": [
      "<center>\n",
      "    CS51 Final Project\n",
      "</center>"
     ]
    },
    {
     "cell_type": "markdown",
     "metadata": {},
     "source": [
      "<center>\n",
      "due: Friday, May 2, 2014\n",
      "</center>"
     ]
    },
    {
     "cell_type": "heading",
     "level": 3,
     "metadata": {},
     "source": [
      "<center>\n",
      "Michelle Cone | Theresa Gebert | Yuan Jiang\n",
      "</center>"
     ]
    },
    {
     "cell_type": "heading",
     "level": 3,
     "metadata": {},
     "source": [
      "Introduction"
     ]
    },
    {
     "cell_type": "markdown",
     "metadata": {},
     "source": [
      "Blokus is a geometrically abstract, strategy board game that was invented in 2000. It can be a two- or four-player game. Each player has 21 pieces of a different color. The board is typically divided into 20 columns and 20 rows, but smaller two-player versions are 14 by 14."
     ]
    },
    {
     "cell_type": "markdown",
     "metadata": {},
     "source": [
      "<center>\n",
      "<img src=\"http://2.bp.blogspot.com/_qmMWugrP-wo/TD0Ef45PsGI/AAAAAAAAH8g/f4ydzjee5rg/s1600/BlokusDuo.jpg\">\n",
      "</center>\n",
      "<br>"
     ]
    },
    {
     "cell_type": "markdown",
     "metadata": {},
     "source": [
      "Here is a brief overview of the rules:\n",
      "\n",
      " 1. A player can only place his/her own pieces diagonally touching to each other.\n",
      " 1. A player is allowed to touch pieces that are not his/her own orthogonally.\n",
      " 1. The goal is to end up with the smallest area in pieces left over once the board has been filled.\n",
      " \n",
      "A two-minute video overview of the rules of the game is provided below."
     ]
    },
    {
     "cell_type": "code",
     "collapsed": false,
     "input": [
      "from IPython.display import YouTubeVideo\n",
      "YouTubeVideo('CdqP6G1YtIY')"
     ],
     "language": "python",
     "metadata": {},
     "outputs": [
      {
       "html": [
        "\n",
        "        <iframe\n",
        "            width=\"400\"\n",
        "            height=300\"\n",
        "            src=\"http://www.youtube.com/embed/CdqP6G1YtIY\"\n",
        "            frameborder=\"0\"\n",
        "            allowfullscreen\n",
        "        ></iframe>\n",
        "        "
       ],
       "metadata": {},
       "output_type": "pyout",
       "prompt_number": 26,
       "text": [
        "<IPython.lib.display.YouTubeVideo at 0x8c22f60>"
       ]
      }
     ],
     "prompt_number": 26
    },
    {
     "cell_type": "markdown",
     "metadata": {},
     "source": [
      "A natural question to ask - particularly as a first-time player - is what sorts of strategy could increase your chances of winning when playing this game. What types of pieces should be placed first? Should one try to branch out one's pieces or stay on one side of the board? Apparently experienced Blokus players tend to place the largest pieces first. It also common that the player who reaches the middle square first wins.\n",
      "\n",
      "We were interested in developing algorithms that could solve the game of Blokus to test whether these strategies were truly optimal. This question poses several challenges, since we were forced to abstract the game, the board, the players, the pieces, and the moves. In addition, we had to choose the algorithms we would implement to play the game.\n",
      "\n",
      "The algorithms we chose were:\n",
      "\n",
      "   1. Naively, a Random algorithm, that would randomly choose a piece to play and place it at a randomly chosen valid placement.\n",
      "   1. A Greedy algorithm, that would always choose the piece that optimized a score function, a measure of how \"good\" a move is.\n",
      "   1. A Minimax algorithm, that would always look two moves ahead and place the piece that optimizes the score function over two moves.\n",
      "    \n",
      "In addition to playing these algorithms against each other within this notebook, we also created a Python file that can be played from the terminal and takes in user input. Details about the algorithms and classes we used to implement the game are provided below."
     ]
    },
    {
     "cell_type": "heading",
     "level": 3,
     "metadata": {},
     "source": [
      "Setting up the Game"
     ]
    },
    {
     "cell_type": "markdown",
     "metadata": {},
     "source": [
      "The most important components of the game are the Game itself, the Players, the Board, and the pieces (Shapes). The Game coordinates actions between the Players and the Board. The Board has functions associated with it according to Shapes and Players. The implementations of these objects are provided below."
     ]
    },
    {
     "cell_type": "code",
     "collapsed": false,
     "input": [
      "# NECESSARY MODULES:\n",
      "\n",
      "import math\n",
      "import random\n",
      "import numpy as np\n",
      "import matplotlib.pyplot as plt\n",
      "import copy\n",
      "\n",
      "from matplotlib import rcParams\n",
      "rcParams['figure.figsize'] = (6, 6)\n",
      "rcParams['figure.dpi'] = 150"
     ],
     "language": "python",
     "metadata": {},
     "outputs": [],
     "prompt_number": 27
    },
    {
     "cell_type": "heading",
     "level": 4,
     "metadata": {},
     "source": [
      "SHAPES"
     ]
    },
    {
     "cell_type": "markdown",
     "metadata": {},
     "source": [
      "A shape, which resembles a piece from the game of Tetris, can easily be represented as a list of connected points. One of the most complicated aspects of a shape is that it can also be rotated and flipped."
     ]
    },
    {
     "cell_type": "code",
     "collapsed": false,
     "input": [
      "# Here we define necessary functions for rotating a point about another point.\n",
      "# They are used in the definition of the Shape class.\n",
      "\n",
      "def rotatex((x, y), (refx, refy), deg):\n",
      "    \"\"\"\n",
      "    Returns the new x value of a point (x, y)\n",
      "    rotated about the point (refx, refy) by\n",
      "    deg degrees clockwise.\n",
      "    \"\"\"\n",
      "    return (math.cos(math.radians(deg))*(x - refx)) + (math.sin(math.radians(deg))*(y - refy)) + refx\n",
      "\n",
      "def rotatey((x, y), (refx, refy), deg):\n",
      "    \"\"\"\n",
      "    Returns the new y value of a point (x, y)\n",
      "    rotated about the point (refx, refy) by\n",
      "    deg degrees clockwise.\n",
      "    \"\"\"\n",
      "    return (- math.sin(math.radians(deg))*(x - refx)) + (math.cos(math.radians(deg))*(y - refy)) + refy\n",
      "\n",
      "def rotatep(p, ref, d):\n",
      "    \"\"\"\n",
      "    Returns the new point as an integer tuple\n",
      "    of a point p (tuple) rotated about the point\n",
      "    ref (tuple) by d degrees clockwise.\n",
      "    \"\"\"\n",
      "    return (int(round(rotatex(p, ref, d))), int(round(rotatey(p, ref, d))))"
     ],
     "language": "python",
     "metadata": {},
     "outputs": [],
     "prompt_number": 28
    },
    {
     "cell_type": "markdown",
     "metadata": {},
     "source": [
      "Here we implement the Shape class. Using math and geometrical formulae, we were able to implement rotate and flip functions that work for all 21 shapes and greatly reduced the length of our code. A subclass that inherits from Shape is expected to override methods like \"ID\", \"size\", and \"points\" to reflect the characteristics of that particular shape."
     ]
    },
    {
     "cell_type": "code",
     "collapsed": false,
     "input": [
      "class Shape(object):\n",
      "    \"\"\"\n",
      "    A class that defines the functions associated\n",
      "    with a shape.\n",
      "    \"\"\"\n",
      "    def __init__(self):\n",
      "        self.ID = \"None\" \n",
      "        self.size = 1\n",
      "    \n",
      "    def create(self, num, pt):\n",
      "        self.set_points(0, 0)\n",
      "        pm = self.points\n",
      "        self.points_map = pm\n",
      "        \n",
      "        self.refpt = pt\n",
      "        x = pt[0] - self.points_map[num][0]\n",
      "        y = pt[1] - self.points_map[num][1]\n",
      "        self.set_points(x, y)\n",
      "    \n",
      "    def set_points(self, x, y):\n",
      "        self.points = []\n",
      "        self.corners = []\n",
      "        \n",
      "    def rotate(self, degrees):\n",
      "        \"\"\"\n",
      "        Returns the points that would be covered by a\n",
      "        shape that is rotated 0, 90, 180, of 270 degrees\n",
      "        in a clockwise direction.\n",
      "        \"\"\"\n",
      "        assert(self.points != \"None\")\n",
      "        assert(degrees in [0, 90, 180, 270])\n",
      "        \n",
      "        def rotate_this(p):\n",
      "            return(rotatep(p, self.refpt, degrees))\n",
      "        \n",
      "        self.points = map(rotate_this, self.points)\n",
      "        self.corners = map(rotate_this, self.corners)\n",
      "        \n",
      "    def flip(self, orientation):\n",
      "        \"\"\"\n",
      "        Returns the points that would be covered if the shape\n",
      "        was flipped horizontally or vertically.\n",
      "        \"\"\"\n",
      "        assert(orientation == \"h\" or orientation == \"None\")\n",
      "        assert(self.points != \"None\")\n",
      "        \n",
      "        def flip_h(p):\n",
      "            x1 = self.refpt[0]\n",
      "            x2 = p[0]\n",
      "            x1 = (x1 - (x2 - x1))\n",
      "            return (x1, p[1])\n",
      "        \n",
      "        def no_flip(p):\n",
      "            return p\n",
      "        \n",
      "        # flip the piece horizontally\n",
      "        if orientation == \"h\":\n",
      "            self.points = map(flip_h, self.points)\n",
      "            self.corners = map(flip_h, self.corners)\n",
      "        # flip the piece vertically\n",
      "        elif orientation == \"None\":\n",
      "            self.points = map(no_flip, self.points)\n",
      "            self.corners = map(no_flip, self.corners)\n",
      "        else: raise Exception(\"Invalid orientation.\")"
     ],
     "language": "python",
     "metadata": {},
     "outputs": [],
     "prompt_number": 29
    },
    {
     "cell_type": "markdown",
     "metadata": {},
     "source": [
      "The following is a map of all of the shapes in the game of Blokus. It is not difficult to add shapes to this game as long as the user specifies the size, points, and corners associated with that shape. The reference points are demarcated in red. They have no significance in the implementations of the algorithms, except that they denote the order (refpt, 1, 2, ... etc.) in which points of the shape are specified in its subclass. (In addition, the reference points are important for the interaction with the user, since users end up specificing a shape and a reference point in order to place pieces on the board.)"
     ]
    },
    {
     "cell_type": "code",
     "collapsed": false,
     "input": [
      "from IPython.display import Image\n",
      "Image(filename='Images/Blokus_Tiles.png')"
     ],
     "language": "python",
     "metadata": {},
     "outputs": [
      {
       "metadata": {},
       "output_type": "pyout",
       "png": "[encoded data removed]",
       "prompt_number": 30,
       "text": [
        "<IPython.core.display.Image at 0x8c22ef0>"
       ]
      }
     ],
     "prompt_number": 30
    },
    {
     "cell_type": "code",
     "collapsed": false,
     "input": [
      "# Implement all of the shapes according to the Shape\n",
      "# class defined earlier and according to the image above.\n",
      "# The highlighted point is the generation point and the\n",
      "# numbers represent the order in which points will be\n",
      "# listed in the points variable.\n",
      "#\n",
      "# The ID will always be set to the name next to each shape.\n",
      "\n",
      "class I1(Shape):\n",
      "    def __init__(self):\n",
      "        self.ID = \"I1\"\n",
      "        self.size = 1\n",
      "    def set_points(self, x, y): \n",
      "        self.points = [(x, y)]\n",
      "        self.corners = [(x + 1, y + 1), (x - 1, y - 1), (x + 1, y - 1), (x - 1, y + 1)]\n",
      "\n",
      "class I2(Shape):\n",
      "    def __init__(self):\n",
      "        self.ID = \"I2\"\n",
      "        self.size = 2\n",
      "    def set_points(self, x, y): \n",
      "        self.points = [(x, y), (x, y + 1)]\n",
      "        self.corners = [(x - 1, y - 1), (x + 1, y - 1), (x + 1, y + 2), (x - 1, y + 2)]\n",
      "    \n",
      "class I3(Shape):\n",
      "    def __init__(self):\n",
      "        self.ID = \"I3\"\n",
      "        self.size = 3\n",
      "    def set_points(self, x, y): \n",
      "        self.points = [(x, y), (x, y + 1), (x, y + 2)]\n",
      "        self.corners = [(x - 1, y - 1), (x + 1, y - 1), (x + 1, y + 3), (x - 1, y + 3)]\n",
      "\n",
      "class I4(Shape):\n",
      "    def __init__(self):\n",
      "        self.ID = \"I4\"\n",
      "        self.size = 4\n",
      "    def set_points(self, x, y): \n",
      "        self.points = [(x, y), (x, y + 1), (x, y + 2), (x, y + 3)]\n",
      "        self.corners = [(x - 1, y - 1), (x + 1, y - 1), (x + 1, y + 4), (x - 1, y + 4)]\n",
      "        \n",
      "class I5(Shape):\n",
      "    def __init__(self):\n",
      "        self.ID = \"I5\"\n",
      "        self.size = 5\n",
      "    def set_points(self, x, y): \n",
      "        self.points = [(x, y), (x, y + 1), (x, y + 2), (x, y + 3), (x, y + 4)]\n",
      "        self.corners = [(x - 1, y - 1), (x + 1, y - 1), (x + 1, y + 5), (x - 1, y + 5)]\n",
      "        \n",
      "class V3(Shape):\n",
      "    def __init__(self):\n",
      "        self.ID = \"V3\"\n",
      "        self.size = 3\n",
      "    def set_points(self, x, y): \n",
      "        self.points = [(x, y), (x, y + 1), (x + 1, y)]\n",
      "        self.corners = [(x - 1, y - 1), (x + 2, y - 1), (x + 2, y + 1), (x + 1, y + 2), (x - 1, y + 2)]\n",
      "        \n",
      "class L4(Shape):\n",
      "    def __init__(self):\n",
      "        self.ID = \"L4\"\n",
      "        self.size = 4\n",
      "    def set_points(self, x, y): \n",
      "        self.points = [(x, y), (x, y + 1), (x, y + 2), (x + 1, y)]\n",
      "        self.corners = [(x - 1, y - 1), (x + 2, y - 1), (x + 2, y + 1), (x + 1, y + 3), (x - 1, y + 3)]        \n",
      "        \n",
      "class Z4(Shape):\n",
      "    def __init__(self):\n",
      "        self.ID = \"Z4\"\n",
      "        self.size = 4\n",
      "    def set_points(self, x, y): \n",
      "        self.points = [(x, y), (x, y + 1), (x + 1, y + 1), (x - 1, y)]\n",
      "        self.corners = [(x - 2, y - 1), (x + 1, y - 1), (x + 2, y), (x + 2, y + 2), (x - 1, y + 2), (x - 2, y + 1)]\n",
      "        \n",
      "class O4(Shape):\n",
      "    def __init__(self):\n",
      "        self.ID = \"O4\"\n",
      "        self.size = 4\n",
      "    def set_points(self, x, y): \n",
      "        self.points = [(x, y), (x, y + 1), (x + 1, y + 1), (x + 1, y)]\n",
      "        self.corners = [(x - 1, y - 1), (x + 2, y - 1), (x + 2, y + 2), (x - 1, y + 2)]\n",
      "        \n",
      "class L5(Shape):\n",
      "    def __init__(self):\n",
      "        self.ID = \"L5\"\n",
      "        self.size = 5\n",
      "    def set_points(self, x, y): \n",
      "        self.points = [(x, y), (x, y + 1), (x + 1, y), (x + 2, y), (x + 3, y)]\n",
      "        self.corners = [(x - 1, y - 1), (x + 4, y - 1), (x + 4, y + 1), (x + 1, y + 2), (x - 1, y + 2)]\n",
      "        \n",
      "class T5(Shape):\n",
      "    def __init__(self):\n",
      "        self.ID = \"T5\"\n",
      "        self.size = 5\n",
      "    def set_points(self, x, y): \n",
      "        self.points = [(x, y), (x, y + 1), (x, y + 2), (x - 1, y), (x + 1, y)]\n",
      "        self.corners = [(x + 2, y - 1), (x + 2, y + 1), (x + 1, y + 3), (x - 1, y + 3), (x - 2, y + 1), (x - 2, y - 1)]\n",
      "\n",
      "class V5(Shape):\n",
      "    def __init__(self):\n",
      "        self.ID = \"V5\"\n",
      "        self.size = 5\n",
      "    def set_points(self, x, y): \n",
      "        self.points = [(x, y), (x, y + 1), (x, y + 2), (x + 1, y), (x + 2, y)]\n",
      "        self.corners = [(x - 1, y - 2), (x + 3, y - 1), (x + 3, y + 1), (x + 1, y + 3), (x - 1, y + 3)]\n",
      "\n",
      "class N(Shape):\n",
      "    def __init__(self):\n",
      "        self.ID = \"N\"\n",
      "        self.size = 5\n",
      "    def set_points(self, x, y): \n",
      "        self.points = [(x, y), (x + 1, y), (x + 2, y), (x, y - 1), (x - 1, y - 1)]\n",
      "        self.corners = [(x + 1, y - 2), (x + 3, y - 1), (x + 3, y + 1), (x - 1, y + 2), (x - 2, y), (x - 2, y - 2)]\n",
      "        \n",
      "class Z5(Shape):\n",
      "    def __init__(self):\n",
      "        self.ID = \"Z5\"\n",
      "        self.size = 5\n",
      "    def set_points(self, x, y): \n",
      "        self.points = [(x, y), (x + 1, y), (x + 1, y + 1), (x - 1, y), (x - 1, y - 1)]\n",
      "        self.corners = [(x + 2, y - 1), (x + 2, y + 2), (x, y + 2), (x - 2, y + 1), (x - 2, y - 2), (x, y - 2)]\n",
      "        \n",
      "class T4(Shape):\n",
      "    def __init__(self):\n",
      "        self.ID = \"T4\"\n",
      "        self.size = 4\n",
      "    def set_points(self, x, y): \n",
      "        self.points = [(x, y), (x, y + 1), (x + 1, y), (x - 1, y)]\n",
      "        self.corners = [(x + 2, y - 2), (x + 2, y + 2), (x + 1, y + 2), (x - 1, y + 2), (x - 2, y + 1), (x - 2, y - 1)]\n",
      "        \n",
      "class P(Shape):\n",
      "    def __init__(self):\n",
      "        self.ID = \"P\"\n",
      "        self.size = 5\n",
      "    def set_points(self, x, y): \n",
      "        self.points = [(x, y), (x + 1, y), (x + 1, y - 1), (x, y - 1), (x, y - 2)]\n",
      "        self.corners = [(x + 1, y - 3), (x + 2, y - 2), (x + 2, y + 1), (x - 1, y + 1), (x - 1, y - 3)]\n",
      "\n",
      "class W(Shape):\n",
      "    def __init__(self):\n",
      "        self.ID = \"W\"\n",
      "        self.size = 5\n",
      "    def set_points(self, x, y): \n",
      "        self.points = [(x, y), (x, y + 1), (x + 1, y + 1), (x - 1, y), (x - 1, y - 1)]\n",
      "        self.corners = [(x + 1, y - 1), (x + 2, y), (x + 2, y + 2), (x - 1, y + 2), (x - 2, y + 1), (x - 2, y - 2), (x, y - 2)]\n",
      "        \n",
      "class U(Shape):\n",
      "    def __init__(self):\n",
      "        self.ID = \"U\"\n",
      "        self.size = 5\n",
      "    def set_points(self, x, y):\n",
      "        self.points = [(x, y), (x, y + 1), (x + 1, y + 1), (x, y - 1), (x + 1, y - 1)]\n",
      "        self.corners = [(x + 2, y - 2), (x + 2, y), (x + 2, y + 2), (x - 1, y + 2), (x - 1, y - 2)]\n",
      "        \n",
      "class F(Shape):\n",
      "    def __init__(self):\n",
      "        self.ID = \"F\"\n",
      "        self.size = 5\n",
      "    def set_points(self, x, y):\n",
      "        self.points = [(x, y), (x, y + 1), (x + 1, y + 1), (x, y - 1), (x - 1, y)]\n",
      "        self.corners = [(x + 1, y - 2), (x + 2, y), (x + 2, y + 2), (x - 1, y + 2), (x - 2, y + 1), (x - 2, y - 1), (x - 1, y - 2)]\n",
      "\n",
      "class X(Shape):\n",
      "    def __init__(self):\n",
      "        self.ID = \"X\"\n",
      "        self.size = 5\n",
      "    def set_points(self, x, y):\n",
      "        self.points = [(x, y), (x, y + 1), (x + 1, y), (x, y - 1), (x - 1, y)]\n",
      "        self.corners = [(x + 1, y - 2), (x + 2, y - 1), (x + 2, y + 1), (x + 1, y + 2), (x - 1, y + 2), (x - 2, y + 1), (x - 2, y - 1), (x - 1, y - 2)]\n",
      "\n",
      "class Y(Shape):\n",
      "    def __init__(self):\n",
      "        self.ID = \"Y\"\n",
      "        self.size = 5\n",
      "    def set_points(self, x, y):\n",
      "        self.points = [(x, y), (x, y + 1), (x + 1, y), (x + 2, y), (x - 1, y)]\n",
      "        self.corners = [(x + 3, y - 1), (x + 3, y + 1), (x + 1, y + 2), (x - 1, y + 2), (x - 2, y + 1), (x - 2, y - 1)]"
     ],
     "language": "python",
     "metadata": {},
     "outputs": [],
     "prompt_number": 31
    },
    {
     "cell_type": "heading",
     "level": 4,
     "metadata": {},
     "source": [
      "BOARD"
     ]
    },
    {
     "cell_type": "markdown",
     "metadata": {},
     "source": [
      "Now that the pieces have been implemented, there needs to be a board to place them on. For testing, we already know we will need to be able to visualize this board - in addition, our user will definitely need to be able to see this board once we extend this to include user input."
     ]
    },
    {
     "cell_type": "code",
     "collapsed": false,
     "input": [
      "# Playing Blokus requires an interface.\n",
      "# Our interface is a square board, which we will\n",
      "# represent as a list of lists.\n",
      "#\n",
      "#      e.g. [[1,2],[3,4]] is the following board:\n",
      "# \n",
      "#           | 1 2 |\n",
      "#           | 3 4 |\n",
      "# \n",
      "# Write a function that lets us print such a board.\n",
      "\n",
      "def printBoard(board):\n",
      "    n = 2\n",
      "    \"\"\"\n",
      "    Prints the board where the representation of a board is\n",
      "    a list of row-lists. The function throws an error if the\n",
      "    the board is invalid: the length of the rows are not\n",
      "    the same.\n",
      "    \"\"\"\n",
      "    assert(len(set([len(board[i]) for i in xrange(len(board))])) == 1)\n",
      "    print ' ' * n,\n",
      "    for i in range(len(board[1])):\n",
      "        print str(i) + ' ' * (n-len(str(i))),\n",
      "    print\n",
      "    for i, row in enumerate(board):\n",
      "        print str(i) + ' ' * (n-len(str(i))), (' ' * n).join(row)\n",
      "        \n",
      "# Credit to Sukrit Kalra for inspiration.\n",
      "# http://stackoverflow.com/questions/16541973/print-matrix-with-indicies-python"
     ],
     "language": "python",
     "metadata": {},
     "outputs": [],
     "prompt_number": 32
    },
    {
     "cell_type": "markdown",
     "metadata": {},
     "source": [
      "The function above prints naively. Particularly for the videos we hoped to create for this project, we sought to visualize the board in a more aesthetically appealing manner. We chose to use MatplotLib for this implementation."
     ]
    },
    {
     "cell_type": "code",
     "collapsed": false,
     "input": [
      "# This function uses MatplotLib to create a fancy image\n",
      "# of the board that opens in a separate window.\n",
      "\n",
      "def fancyBoard(board, num):\n",
      "    \n",
      "    Apoints = []\n",
      "    Bpoints = []\n",
      "    \n",
      "    for y in enumerate(board.state):\n",
      "        for x in enumerate(y[1]):\n",
      "            if x[1] == \"A\":\n",
      "                Apoints.append((x[0], (board.size[0] - 1) - y[0]))\n",
      "            if x[1] == \"B\":\n",
      "                Bpoints.append((x[0], (board.size[0] - 1) - y[0]))\n",
      "    \n",
      "    # fig = plt.figure(frameon=False)\n",
      "    ax = plt.subplot(111, xlim=(0, board.size[0]), ylim=(0, board.size[1]))\n",
      "    \n",
      "    for i in xrange(board.size[0] + 1):\n",
      "        for j in xrange(board.size[1] + 1):\n",
      "            polygon = plt.Polygon([[i, j], [i + 1, j], [i + 1, j + 1], [i, j + 1], [i, j]])\n",
      "            if (i, j) in Apoints:\n",
      "                polygon.set_facecolor('red')\n",
      "                ax.add_patch(polygon)\n",
      "            elif (i, j) in Bpoints:\n",
      "                polygon.set_facecolor('blue')\n",
      "                ax.add_patch(polygon)\n",
      "            else:\n",
      "                polygon.set_facecolor('lightgrey')\n",
      "                ax.add_patch(polygon)\n",
      "    \n",
      "    for axis in (ax.xaxis, ax.yaxis):\n",
      "        axis.set_major_formatter(plt.NullFormatter())\n",
      "        axis.set_major_locator(plt.NullLocator())\n",
      "    \n",
      "    plt.savefig(\"random\" + str(num) + \".png\")\n",
      "    #plt.show()\n",
      "    # return ax\n",
      "\n",
      "# Credit to Jake Vanderplas <vanderplas@astro.washington.edu>,  Dec. 2012\n",
      "# for inspiration for this code.\n",
      "# http://jakevdp.github.io/blog/2012/12/06/minesweeper-in-matplotlib/"
     ],
     "language": "python",
     "metadata": {},
     "outputs": [],
     "prompt_number": 33
    },
    {
     "cell_type": "code",
     "collapsed": false,
     "input": [
      "# This is the type of board the fancy printer produces in a separate window.\n",
      "\n",
      "Image(filename='images/Sample_Blokus.png')"
     ],
     "language": "python",
     "metadata": {},
     "outputs": [
      {
       "metadata": {},
       "output_type": "pyout",
       "png": "[encoded data removed]",
       "prompt_number": 34,
       "text": [
        "<IPython.core.display.Image at 0x8c2cdd8>"
       ]
      }
     ],
     "prompt_number": 34
    },
    {
     "cell_type": "markdown",
     "metadata": {},
     "source": [
      "Finally, we must implement the board itself. It has a princt functionality, as well functions that check whether points are in bounds, adjacent, or cornering, as these functions are part of the rules of the game. It also has a function that the Game can call in order to update the board with a particular placement."
     ]
    },
    {
     "cell_type": "code",
     "collapsed": false,
     "input": [
      "# Here we implement the Board class. Boards take in\n",
      "# Players and update according to placements made.\n",
      "# They also have a print functionality.\n",
      "\n",
      "class Board:\n",
      "    \"\"\"\n",
      "    Creates a board that has n rows and\n",
      "    m columns with an empty space represented\n",
      "    by a character string according to null of\n",
      "    character length one.\n",
      "    \"\"\"\n",
      "    def __init__(self, n, m, null):\n",
      "        self.size = (n, m)\n",
      "        self.null = null\n",
      "        self.empty = [[self.null] * m for i in xrange(n)]\n",
      "        self.state = self.empty\n",
      "        \n",
      "    def update(self, player, move):\n",
      "        \"\"\"\n",
      "        Takes in a Player object and a move as a\n",
      "        list of integer tuples that represent the piece.\n",
      "        \"\"\"\n",
      "        for row in xrange(len(self.state)):\n",
      "            for col in xrange(len(self.state[1])):\n",
      "                if (col, row) in move:\n",
      "                    self.state[row][col] = player.label\n",
      "    \n",
      "    def in_bounds(self, point):\n",
      "        \"\"\"\n",
      "        Takes in a tuple and checks if it is in the bounds of\n",
      "        the board.\n",
      "        \"\"\"\n",
      "        return (0 <= point[0] <= (self.size[1] - 1)) & (0 <= point[1] <= (self.size[0] - 1))\n",
      "    \n",
      "    def overlap(self, move):\n",
      "        \"\"\"\n",
      "        Returns a boolean for whether a move is overlapping\n",
      "        any pieces that have already been placed on the board.\n",
      "        \"\"\"\n",
      "        if False in [(self.state[j][i] == self.null) for (i, j) in move]:\n",
      "            return(True)\n",
      "        else: return(False)\n",
      "        \n",
      "    def corner(self, player, move):\n",
      "        \"\"\"\n",
      "        Note: ONLY once a move has been checked for adjacency, this\n",
      "        function returns a boolean; whether the move is cornering\n",
      "        any pieces of the player proposing the move.\n",
      "        \"\"\"\n",
      "        validates = []\n",
      "        \n",
      "        for (i, j) in move:\n",
      "            if self.in_bounds((j + 1, i + 1)):\n",
      "                validates.append((self.state[j + 1][i + 1] == player.label))\n",
      "            \n",
      "            if self.in_bounds((j - 1, i - 1)):\n",
      "                validates.append((self.state[j - 1][i - 1] == player.label))\n",
      "            \n",
      "            if self.in_bounds((j - 1, i + 1)):\n",
      "                validates.append((self.state[j - 1][i + 1] == player.label))\n",
      "            \n",
      "            if self.in_bounds((j + 1, i - 1)):\n",
      "                validates.append((self.state[j + 1][i - 1] == player.label))\n",
      "        \n",
      "        if True in validates: return True\n",
      "        else: return False\n",
      "    \n",
      "    def adj(self, player, move):\n",
      "        \"\"\"\n",
      "        Checks if a move is adjacent to any squares on\n",
      "        the board which are occupied by the player\n",
      "        proposing the move and returns a boolean.\n",
      "        \"\"\"\n",
      "        validates = []\n",
      "        \n",
      "        for (i, j) in move:\n",
      "            if self.in_bounds((j, i + 1)):\n",
      "                validates.append((self.state[j][i + 1] == player.label))\n",
      "            \n",
      "            if self.in_bounds((j, i - 1)):\n",
      "                validates.append((self.state[j][i - 1] == player.label))\n",
      "            \n",
      "            if self.in_bounds((j - 1, i)):\n",
      "                validates.append((self.state[j - 1][i] == player.label))\n",
      "            \n",
      "            if self.in_bounds((j + 1, i)):\n",
      "                validates.append((self.state[j + 1][i] == player.label))\n",
      "        \n",
      "        if True in validates: return True\n",
      "        else: return False\n",
      "    \n",
      "    def print_board(self, num = None, fancy = False):\n",
      "        if fancy == False:\n",
      "            printBoard(self.state)\n",
      "        else: fancyBoard(self, num)"
     ],
     "language": "python",
     "metadata": {},
     "outputs": [],
     "prompt_number": 35
    },
    {
     "cell_type": "heading",
     "level": 4,
     "metadata": {},
     "source": [
      "PLAYERS"
     ]
    },
    {
     "cell_type": "markdown",
     "metadata": {},
     "source": [
      "The last object we need in order to play a Game is a Player. A Player interacts with the Game in order to propose moves, since it doesn't make sense for a Player to have direct access to a Board. (If it did, a Player could bypass the rules of the Game!) A Player proposes moves according to a strategy, which will end up being one of our three algorithms. A Player is also updated (by the Game) after every move and gets pieces at the start of the game (from Game). Finally, a Player also has a function that can generate a list of the possible moves given a particular state of the board."
     ]
    },
    {
     "cell_type": "code",
     "collapsed": false,
     "input": [
      "# Here we implement the Player class. Players interact\n",
      "# with Boards and Games. They can propose moves, \n",
      "# which can be rejected if the move is invalid.\n",
      "# They play according to a certain strategy,  as\n",
      "# specified by a function that takes in the current\n",
      "# state of the game's interface and returns a placement.\n",
      "\n",
      "class Player:\n",
      "    def __init__(self, label, name, strategy):\n",
      "        self.label = label\n",
      "        self.name = name\n",
      "        self.pieces = []\n",
      "        self.corners = set()\n",
      "        self.strategy = strategy\n",
      "        self.score = 0\n",
      "        \n",
      "    def add_pieces(self, pieces):\n",
      "        \"\"\"\n",
      "        Gives a player the initial set of pieces.\n",
      "        \"\"\"\n",
      "        self.pieces = pieces\n",
      "        \n",
      "    def start_corner(self, p):\n",
      "        \"\"\"\n",
      "        Gives a player an initial starting corner.\n",
      "        \"\"\"\n",
      "        self.corners = set([p])\n",
      "        \n",
      "    def remove_piece(self, piece):\n",
      "        \"\"\"\n",
      "        Removes a given piece (Shape object) from\n",
      "        the list of pieces a player has.\n",
      "        \"\"\"\n",
      "        self.pieces = [s for s in self.pieces if s.ID != piece.ID]\n",
      "        \n",
      "    def update_player(self, placement, board):\n",
      "        \"\"\"\n",
      "        Updates the variables that the player is keeping track\n",
      "        of, e.g. their score and their available corners.\n",
      "        Placement should be in the form of a Shape object.\n",
      "        \"\"\"\n",
      "        self.score = self.score + placement.size\n",
      "        for c in placement.corners:\n",
      "            if (board.in_bounds(c) and (not board.overlap([c]))):\n",
      "                (self.corners).add(c)\n",
      "    \n",
      "    def possible_moves(self, pieces, game):\n",
      "        \"\"\"\n",
      "        Returns a unique list of placements, i.e. Shape objects\n",
      "        with a particular flip, orientation, corners, and points.\n",
      "        It uses a list of pieces (Shape objects) and the game, which includes\n",
      "        its rules and valid moves, in order to find the placements.\n",
      "        \"\"\"\n",
      "        def check_corners(game):\n",
      "            \"\"\"\n",
      "            Updates the corners of the player, in case the\n",
      "            corners have been covered by another player's pieces.\n",
      "            \"\"\"\n",
      "            self.corners = set([(i,j) for (i,j) in self.corners if game.board.state[j][i] == game.board.null])\n",
      "        \n",
      "        # Check the corners before proceeding.\n",
      "        check_corners(game)\n",
      "        \n",
      "        # This list of placements will be updated with valid ones.\n",
      "        placements = []\n",
      "        visited = []\n",
      "        \n",
      "        # Loop through every available corner.\n",
      "        for cr in self.corners:\n",
      "            # Look through every piece offered. (This will be restricted according\n",
      "            # to certain algorithms.)\n",
      "            for sh in pieces:\n",
      "                # Create a new shape so that the one in the player's\n",
      "                # list of shapes is not overwritten.\n",
      "                try_out = copy.deepcopy(sh)\n",
      "                # Loop over every potential refpt the piece could have.\n",
      "                for num in xrange(try_out.size):\n",
      "                    try_out.create(num, cr)\n",
      "                    # And every possible flip.\n",
      "                    for fl in [\"h\", \"None\"]:\n",
      "                        try_out.flip(fl)\n",
      "                        # And every possible orientation.\n",
      "                        for rot in [90]*4:\n",
      "                            try_out.rotate(rot)\n",
      "                            candidate = copy.deepcopy(try_out)\n",
      "                            if game.valid_move(self, candidate.points):\n",
      "                                if not (set(candidate.points) in visited):\n",
      "                                    placements.append(candidate)\n",
      "                                    visited.append(set(candidate.points))\n",
      "        \n",
      "        return placements\n",
      "    \n",
      "    def do_move(self, game):\n",
      "        \"\"\"\n",
      "        Generates a move according to the Player's\n",
      "        strategy and current state of the board.\n",
      "        \"\"\"\n",
      "        return self.strategy(self, game)"
     ],
     "language": "python",
     "metadata": {},
     "outputs": [],
     "prompt_number": 36
    },
    {
     "cell_type": "heading",
     "level": 4,
     "metadata": {},
     "source": [
      "GAME"
     ]
    },
    {
     "cell_type": "markdown",
     "metadata": {},
     "source": [
      "Here we put it all together and implement the Game class. It handles the Board, the Players, and the Shapes created above. Note that Players are only able to propose moves, but the Game implements them and updates the Board.\n",
      "\n",
      "A Game takes in an interface called a \"board\" here for convenience, although it should be noted that it can be something like a deck of cards as well. The Players can only change the board according to the rules of the game.\n",
      "\n",
      "The Game also has a function that checks if the game has been won yet. This must be defined through inheriting the Game class and overriding dummy methods for a particular game (e.g. Blokus). By inheriting from a Game class, one must define rules that check if a move proposed by the Players on the Board is valid or not for a specific game.\n",
      "\n",
      "The Game also keeps track of the number of rounds that have been played. Finally, the Game gives players the chance to play cyclically, starting with the first player in the list of players when the Game is instantiated."
     ]
    },
    {
     "cell_type": "code",
     "collapsed": false,
     "input": [
      "# Here we implement a very general Game class.\n",
      "# A Game needs a list of Players, which have functionalities\n",
      "# that can play according to their strategies.\n",
      "\n",
      "class Game:\n",
      "    \"\"\"\n",
      "    A class that takes a list of players objects,\n",
      "    and a board object and plays moves, keeping track of the number\n",
      "    of rounds that have been played and determining the validity\n",
      "    of moves proposed to the game.\n",
      "    \"\"\"\n",
      "    def __init__(self, players, board, all_pieces):\n",
      "        self.players = players\n",
      "        self.rounds = 0\n",
      "        self.board = board\n",
      "        self.all_pieces = all_pieces\n",
      "        \n",
      "    def winner(self):\n",
      "        \"\"\"\n",
      "        Checks the conditions of the game\n",
      "        to see if the game has been won yet\n",
      "        and returns \"None\" if the game has\n",
      "        not been won, and the name of the\n",
      "        player if it has been won.\n",
      "        \"\"\"\n",
      "        return(\"None\")\n",
      "    \n",
      "    def valid_move(self, player, move):\n",
      "        \"\"\"\n",
      "        Uses functions from the board to see whether\n",
      "        a player's proposed move is valid.\n",
      "        \"\"\"\n",
      "        return(True)\n",
      "    \n",
      "    def play(self):\n",
      "        \"\"\"\n",
      "        Plays a list of Player objects sequentially,\n",
      "        as long as the game has not been won yet,\n",
      "        starting with the first player in the list at\n",
      "        instantiation.\n",
      "        \"\"\"\n",
      "        if self.rounds == 0:\n",
      "            # When the game has not begun yet, the game must\n",
      "            # give the players their pieces and a corner to start.\n",
      "            max_x = ((self.board).size[1] - 1)\n",
      "            max_y = ((self.board).size[0] - 1)\n",
      "            starts = [(0, 0), (max_y, max_x), (0, max_x), (max_y, 0)]\n",
      "            \n",
      "            for i in xrange(len(self.players)):\n",
      "                (self.players[i]).add_pieces(self.all_pieces)\n",
      "                (self.players[i]).start_corner(starts[i])\n",
      "        \n",
      "        # if there is no winner, print out the current player's name and\n",
      "        # let current player perform a move\n",
      "        if self.winner() == \"None\":\n",
      "            current = self.players[0]\n",
      "            print \"Current player: \" + current.name\n",
      "            proposal = current.do_move(self)\n",
      "            if proposal == None:\n",
      "                # move on to next player, increment rounds\n",
      "                first = (self.players).pop(0)\n",
      "                self.players = self.players + [first]\n",
      "                self.rounds += 1\n",
      "            \n",
      "            \n",
      "            # ensure that the proposed move is valid\n",
      "            elif self.valid_move(current, proposal.points):\n",
      "                # update the board with the move\n",
      "                (self.board).update(current, proposal.points)\n",
      "                # let the player update itself accordingly\n",
      "                current.update_player(proposal, self.board)\n",
      "                # remove the piece that was played from the player\n",
      "                current.remove_piece(proposal)\n",
      "                # place the player at the back of the queue\n",
      "                first = (self.players).pop(0)\n",
      "                self.players = self.players + [first]\n",
      "                # increment the number of rounds just played\n",
      "                self.rounds += 1\n",
      "            \n",
      "            # interrupts the game if an invalid move is proposed\n",
      "            else: raise Exception(\"Invalid move by \" + current.name + \".\")\n",
      "        \n",
      "        else:\n",
      "            print \"Game over! And the winner is: \" + self.winner()"
     ],
     "language": "python",
     "metadata": {},
     "outputs": [],
     "prompt_number": 37
    },
    {
     "cell_type": "markdown",
     "metadata": {},
     "source": [
      "Of course, rather than playing just any game, we would like to be playing Blokus. Here we override the appropriate functions to make the game a game of Blokus."
     ]
    },
    {
     "cell_type": "code",
     "collapsed": false,
     "input": [
      "# Here we inherit the Game class in order to\n",
      "# create the Blokus game. Functions like \"play\" remain\n",
      "# the same, but \"valid_move\" and \"winner\" are overwritten\n",
      "# according to the rules of Blokus.\n",
      "\n",
      "class Blokus(Game):\n",
      "    \"\"\"\n",
      "    A class that takes a list of players, e.g. ['A','B','C'],\n",
      "    and a board and plays moves, keeping track of the number\n",
      "    of rounds that have been played.\n",
      "    \"\"\"        \n",
      "    def winner(self):\n",
      "        \"\"\"\n",
      "        Checks the conditions of the game\n",
      "        to see if the game has been won yet\n",
      "        and returns \"None\" if the game has\n",
      "        not been won, and the name of the\n",
      "        player if it has been won.\n",
      "        \"\"\"\n",
      "        # Credit to Dariusz Walczak for inspiration.\n",
      "        # http://stackoverflow.com/questions/1720421/merge-two-lists-in-python\n",
      "        moves = [p.possible_moves(p.pieces, self) for p in self.players]\n",
      "        if False in [mv == [] for mv in moves]:\n",
      "            return(\"None\")\n",
      "        else:\n",
      "            cand = [(p.score, p.name) for p in self.players]\n",
      "            return(sorted(cand, reverse=True)[0][1])\n",
      "        \n",
      "    def valid_move(self, player, move):\n",
      "        \"\"\"\n",
      "        Uses functions from the board to see whether\n",
      "        a player's proposed move is valid.\n",
      "        \"\"\"\n",
      "        if self.rounds < len(self.players):\n",
      "            if ((False in [(self.board).in_bounds(pt) for pt in move])\n",
      "            or (self.board).overlap(move)\n",
      "            or not (True in [(pt in player.corners) for pt in move])):\n",
      "                return(False)\n",
      "            else: return(True)\n",
      "        \n",
      "        elif ((False in [(self.board).in_bounds(pt) for pt in move])\n",
      "        or (self.board).overlap(move) \n",
      "        or (self.board).adj(player, move)  \n",
      "        or not (self.board).corner(player, move)):\n",
      "            return(False)\n",
      "        \n",
      "        else: return(True)"
     ],
     "language": "python",
     "metadata": {},
     "outputs": [],
     "prompt_number": 38
    },
    {
     "cell_type": "heading",
     "level": 3,
     "metadata": {},
     "source": [
      "Testing"
     ]
    },
    {
     "cell_type": "markdown",
     "metadata": {},
     "source": [
      "This is a small subset of the testing we did for our module. It is particularly important for the following cells to be run in the correct order. In addition to the testing not included below, we performed many tests as we wrote our functions, particularly while playing with the user version."
     ]
    },
    {
     "cell_type": "code",
     "collapsed": false,
     "input": [
      "# Test the printing function on an empty board.\n",
      "\n",
      "bd = Board(14, 14, '_')\n",
      "bd.print_board()"
     ],
     "language": "python",
     "metadata": {},
     "outputs": [
      {
       "output_type": "stream",
       "stream": "stdout",
       "text": [
        "   0  1  2  3  4  5  6  7  8  9  10 11 12 13\n",
        "0  _  _  _  _  _  _  _  _  _  _  _  _  _  _\n",
        "1  _  _  _  _  _  _  _  _  _  _  _  _  _  _\n",
        "2  _  _  _  _  _  _  _  _  _  _  _  _  _  _\n",
        "3  _  _  _  _  _  _  _  _  _  _  _  _  _  _\n",
        "4  _  _  _  _  _  _  _  _  _  _  _  _  _  _\n",
        "5  _  _  _  _  _  _  _  _  _  _  _  _  _  _\n",
        "6  _  _  _  _  _  _  _  _  _  _  _  _  _  _\n",
        "7  _  _  _  _  _  _  _  _  _  _  _  _  _  _\n",
        "8  _  _  _  _  _  _  _  _  _  _  _  _  _  _\n",
        "9  _  _  _  _  _  _  _  _  _  _  _  _  _  _\n",
        "10 _  _  _  _  _  _  _  _  _  _  _  _  _  _\n",
        "11 _  _  _  _  _  _  _  _  _  _  _  _  _  _\n",
        "12 _  _  _  _  _  _  _  _  _  _  _  _  _  _\n",
        "13 _  _  _  _  _  _  _  _  _  _  _  _  _  _\n"
       ]
      }
     ],
     "prompt_number": 39
    },
    {
     "cell_type": "code",
     "collapsed": false,
     "input": [
      "# Test the in_bounds function.\n",
      "\n",
      "print \"Should be False: \" + str(bd.in_bounds((-1, 1)))\n",
      "print \"Should be True: \" + str(bd.in_bounds((1, 1)))\n",
      "print \"Should be True: \" + str(bd.in_bounds((13, 13)))\n",
      "print \"Should be False: \" + str(bd.in_bounds((14, 2)))\n",
      "print \"Should be False: \" + str(bd.in_bounds((-2, -2)))"
     ],
     "language": "python",
     "metadata": {},
     "outputs": [
      {
       "output_type": "stream",
       "stream": "stdout",
       "text": [
        "Should be False: False\n",
        "Should be True: True\n",
        "Should be True: True\n",
        "Should be False: False\n",
        "Should be False: False\n"
       ]
      }
     ],
     "prompt_number": 40
    },
    {
     "cell_type": "code",
     "collapsed": false,
     "input": [
      "# Test creating pieces, (naive) strategies using a random choice\n",
      "# from all possible moves, and (naive) players that will play\n",
      "# one round of moves and update the board.\n",
      "\n",
      "piece1 = I5()\n",
      "piece1.create(0, (0, 0))\n",
      "\n",
      "piece2 = I1()\n",
      "piece2.create(0, (9, 9))\n",
      "\n",
      "def naive(player, game):\n",
      "    return random.choice(player.possible_moves(player.pieces, game))\n",
      "\n",
      "def naive2(player, game):\n",
      "    return random.choice(player.possible_moves(player.pieces, game))\n",
      "\n",
      "few = [I1(), I2(), I3(), I4(), I5()]\n",
      "\n",
      "alice = Player(\"A\", \"Alice\", naive)\n",
      "bob = Player(\"B\", \"Bob\", naive2)\n",
      "\n",
      "bd = Board(10, 10, '_')\n",
      "bd.update(alice, piece1.points)\n",
      "bd.update(bob, piece2.points)\n",
      "bd.print_board()"
     ],
     "language": "python",
     "metadata": {},
     "outputs": [
      {
       "output_type": "stream",
       "stream": "stdout",
       "text": [
        "   0  1  2  3  4  5  6  7  8  9 \n",
        "0  A  _  _  _  _  _  _  _  _  _\n",
        "1  A  _  _  _  _  _  _  _  _  _\n",
        "2  A  _  _  _  _  _  _  _  _  _\n",
        "3  A  _  _  _  _  _  _  _  _  _\n",
        "4  A  _  _  _  _  _  _  _  _  _\n",
        "5  _  _  _  _  _  _  _  _  _  _\n",
        "6  _  _  _  _  _  _  _  _  _  _\n",
        "7  _  _  _  _  _  _  _  _  _  _\n",
        "8  _  _  _  _  _  _  _  _  _  _\n",
        "9  _  _  _  _  _  _  _  _  _  B\n"
       ]
      }
     ],
     "prompt_number": 76
    },
    {
     "cell_type": "code",
     "collapsed": false,
     "input": [
      "# Instantiate a miniature Blokus game with the\n",
      "# 10x10 board created above.\n",
      "# \n",
      "# Test the play function in the Blokus game.\n",
      "# Ensure that the number of rounds is incremented\n",
      "# appropriately.\n",
      "# \n",
      "# Test that the pieces Alice has are reduced\n",
      "# appropriately.\n",
      "\n",
      "bd = Board(10, 10, '_') # To \"clear\" the board.\n",
      "miniblokus = Blokus([alice, bob], bd, few)"
     ],
     "language": "python",
     "metadata": {},
     "outputs": [],
     "prompt_number": 88
    },
    {
     "cell_type": "code",
     "collapsed": false,
     "input": [
      "print \"\\nWe should be on round zero: \" + str(miniblokus.rounds) + \"\\n\"\n",
      "\n",
      "miniblokus.play()\n",
      "\n",
      "print \"\\nThe number of rounds should be incremented by one: \" + str(miniblokus.rounds) + \"\\n\"\n",
      "print \"The current state of the board: \\n\"\n",
      "miniblokus.board.print_board()\n",
      "print \n",
      "print \"Alice's pieces should have the shape that was used in the move removed.\"\n",
      "print [s.ID for s in alice.pieces]\n",
      "print "
     ],
     "language": "python",
     "metadata": {},
     "outputs": [
      {
       "output_type": "stream",
       "stream": "stdout",
       "text": [
        "\n",
        "We should be on round zero: 0\n",
        "\n",
        "Current player: Alice"
       ]
      },
      {
       "output_type": "stream",
       "stream": "stdout",
       "text": [
        "\n",
        "\n",
        "The number of rounds should be incremented by one: 1\n"
       ]
      },
      {
       "output_type": "stream",
       "stream": "stdout",
       "text": [
        "\n",
        "The current state of the board: \n",
        "\n",
        "   0  1  2  3  4  5  6  7  8  9 \n",
        "0  A  _  _  _  _  _  _  _  _  _\n",
        "1  A  _  _  _  _  _  _  _  _  _\n",
        "2  A  _  _  _  _  _  _  _  _  _\n",
        "3  A  _  _  _  _  _  _  _  _  _\n",
        "4  A  _  _  _  _  _  _  _  _  _\n",
        "5  _  _  _  _  _  _  _  _  _  _\n",
        "6  _  _  _  _  _  _  _  _  _  _\n",
        "7  _  _  _  _  _  _  _  _  _  _\n",
        "8  _  _  _  _  _  _  _  _  _  _\n",
        "9  _  _  _  _  _  _  _  _  _  _\n",
        "\n",
        "Alice's pieces should have the shape that was used in the move removed.\n",
        "['I1', 'I2', 'I3', 'I4']\n",
        "\n"
       ]
      }
     ],
     "prompt_number": 89
    },
    {
     "cell_type": "code",
     "collapsed": false,
     "input": [
      "print \"\\nRecall that we are on this round: \" + str(miniblokus.rounds) + \"\\n\"\n",
      "\n",
      "miniblokus.play()\n",
      "print \n",
      "\n",
      "print \"The number of rounds should have been incremented by one: \" + str(miniblokus.rounds)\n",
      "print \"The current state of the board: \\n\"\n",
      "miniblokus.board.print_board()\n",
      "print \"\\nAlice's pieces should be the same as before!\"\n",
      "print [s.ID for s in alice.pieces]\n",
      "print \"\\nBob's pieces should have the shape that was used in the move removed.\"\n",
      "print [s.ID for s in bob.pieces]\n",
      "print "
     ],
     "language": "python",
     "metadata": {},
     "outputs": [
      {
       "output_type": "stream",
       "stream": "stdout",
       "text": [
        "\n",
        "Recall that we are on this round: 1\n",
        "\n",
        "Current player: Bob"
       ]
      },
      {
       "output_type": "stream",
       "stream": "stdout",
       "text": [
        "\n",
        "\n"
       ]
      },
      {
       "output_type": "stream",
       "stream": "stdout",
       "text": [
        "The number of rounds should have been incremented by one: 2\n",
        "The current state of the board: \n",
        "\n",
        "   0  1  2  3  4  5  6  7  8  9 \n",
        "0  A  _  _  _  _  _  _  _  _  _\n",
        "1  A  _  _  _  _  _  _  _  _  _\n",
        "2  A  _  _  _  _  _  _  _  _  _\n",
        "3  A  _  _  _  _  _  _  _  _  _\n",
        "4  A  _  _  _  _  _  _  _  _  _\n",
        "5  _  _  _  _  _  _  _  _  _  _\n",
        "6  _  _  _  _  _  _  _  _  _  _\n",
        "7  _  _  _  _  _  _  _  _  _  _\n",
        "8  _  _  _  _  _  _  _  _  _  _\n",
        "9  _  _  _  _  _  _  B  B  B  B\n",
        "\n",
        "Alice's pieces should be the same as before!\n",
        "['I1', 'I2', 'I3', 'I4']\n",
        "\n",
        "Bob's pieces should have the shape that was used in the move removed.\n",
        "['I1', 'I2', 'I3', 'I5']\n",
        "\n"
       ]
      }
     ],
     "prompt_number": 90
    },
    {
     "cell_type": "code",
     "collapsed": false,
     "input": [
      "# Testing the possible_moves function in Player.\n",
      "\n",
      "test = alice.possible_moves([P()], miniblokus)\n",
      "\n",
      "for t in test:\n",
      "    print t.points"
     ],
     "language": "python",
     "metadata": {},
     "outputs": [
      {
       "output_type": "stream",
       "stream": "stdout",
       "text": [
        "[(1, 5), (2, 5), (2, 6), (1, 6), (1, 7)]\n",
        "[(1, 6), (1, 5), (2, 5), (2, 6), (3, 6)]\n",
        "[(2, 6), (1, 6), (1, 5), (2, 5), (2, 4)]\n",
        "[(3, 5), (3, 6), (2, 6), (2, 5), (1, 5)]\n",
        "[(1, 7), (0, 7), (0, 6), (1, 6), (1, 5)]\n"
       ]
      }
     ],
     "prompt_number": 91
    },
    {
     "cell_type": "heading",
     "level": 3,
     "metadata": {},
     "source": [
      "Algorithms"
     ]
    },
    {
     "cell_type": "markdown",
     "metadata": {},
     "source": [
      "Here we implement three different algorithms which can be used as a Player's strategy. The first one is a naive Random strategy. The second is a Greedy algorithm and the third is a Minimax algorithm. The basic principle is that these algorithms (the first not being a true algorithm since it is simple random choice) illustrate different strategies for playing Blokus: naively choosing a piece and putting it on the board, choosing a placement based on its size and the number of corners it will gain you (and take away from your opponents), and finally, choosing a placement based on how much it benefits you not only on this turn, but your next turn as well.\n",
      "\n",
      "Note that the true implementation of Minimax looks ahead at all moves and chooses the one that maximizes your points (and minimized the points your opponent can gain). Of course, this is computationally infeasible and we chose to simply look two moves ahead."
     ]
    },
    {
     "cell_type": "code",
     "collapsed": false,
     "input": [
      "# GLOBAL VARIABLES:\n",
      "\n",
      "All_Shapes = [I1(), I2(), I3(), I4(), I5(), \\\n",
      "              V3(), L4(), Z4(), O4(), L5(), \\\n",
      "              T5(), V5(), N(), Z5(), T4(), \\\n",
      "              P(), W(), U(), F(), X(), Y()]\n",
      "\n",
      "All_Degrees = [0, 90, 180, 270]\n",
      "\n",
      "All_Flip = ['h', \"None\"]"
     ],
     "language": "python",
     "metadata": {},
     "outputs": [],
     "prompt_number": 95
    },
    {
     "cell_type": "heading",
     "level": 4,
     "metadata": {},
     "source": [
      "THE RANDOM PLAYER"
     ]
    },
    {
     "cell_type": "markdown",
     "metadata": {},
     "source": [
      "The Random algorithm randomly chooses a Shape and then randomly chooses among its possible placements. If no placements are available it chooses a different Shape, randomly."
     ]
    },
    {
     "cell_type": "code",
     "collapsed": false,
     "input": [
      "def Random_Player(player, game):\n",
      "    \"\"\"\n",
      "    Takes in a Player object and Game object and returns a placement\n",
      "    in the form of a single piece with a proper flip, orientation, corners,\n",
      "    and points. If no placement can be made function should return None.\n",
      "    \"\"\"\n",
      "    shape_options = [p for p in player.pieces]\n",
      "    \n",
      "    while len(shape_options) > 0:\n",
      "        piece = random.choice(shape_options)\n",
      "        possibles = player.possible_moves([piece], game)\n",
      "    \n",
      "        # if there are not possible placements for that piece,\n",
      "        # remove the piece from out list of pieces\n",
      "        if possibles != []:\n",
      "            return random.choice(possibles)\n",
      "        \n",
      "        else: shape_options.remove(piece)\n",
      "    \n",
      "    # if the while loop finishes without returning a possible move,\n",
      "    # there must be no possible moves left, return None\n",
      "    return None"
     ],
     "language": "python",
     "metadata": {},
     "outputs": [],
     "prompt_number": 96
    },
    {
     "cell_type": "code",
     "collapsed": false,
     "input": [
      "# Test out the Random_Player strategy on a standard two-player board.\n",
      "\n",
      "arnold = Player(\"A\", \"Arnold\", Random_Player)\n",
      "beatrix = Player(\"B\", \"Beatrix\", Random_Player)\n",
      "\n",
      "standard_size = Board(14, 14, \"O\")\n",
      "\n",
      "randomblokus = Blokus([arnold, beatrix], standard_size, All_Shapes)"
     ],
     "language": "python",
     "metadata": {},
     "outputs": [],
     "prompt_number": 97
    },
    {
     "cell_type": "code",
     "collapsed": false,
     "input": [
      "# Play Arnold and Beatrix against each other.\n",
      "# See who wins!\n",
      "\n",
      "randomblokus.play()\n",
      "randomblokus.board.print_board(num = randomblokus.rounds, fancy = False)\n",
      "\n",
      "while randomblokus.winner() == \"None\":\n",
      "    randomblokus.play()\n",
      "    print \n",
      "    randomblokus.board.print_board(num = randomblokus.rounds, fancy = False)\n",
      "\n",
      "print \n",
      "randomblokus.board.print_board()\n",
      "print \n",
      "randomblokus.play()\n",
      "\n",
      "print \"The final scores are...\"\n",
      "\n",
      "by_name = sorted(randomblokus.players, key = lambda player: player.name)\n",
      "\n",
      "for p in by_name:\n",
      "    print p.name + \" : \" + str(p.score)"
     ],
     "language": "python",
     "metadata": {},
     "outputs": [
      {
       "output_type": "stream",
       "stream": "stdout",
       "text": [
        "Current player: Arnold\n",
        "   0  1  2  3  4  5  6  7  8  9  10 11 12 13\n",
        "0  A  A  A  A  O  O  O  O  O  O  O  O  O  O\n",
        "1  O  O  A  O  O  O  O  O  O  O  O  O  O  O\n",
        "2  O  O  O  O  O  O  O  O  O  O  O  O  O  O\n",
        "3  O  O  O  O  O  O  O  O  O  O  O  O  O  O\n",
        "4  O  O  O  O  O  O  O  O  O  O  O  O  O  O\n",
        "5  O  O  O  O  O  O  O  O  O  O  O  O  O  O\n",
        "6  O  O  O  O  O  O  O  O  O  O  O  O  O  O\n",
        "7  O  O  O  O  O  O  O  O  O  O  O  O  O  O\n",
        "8  O  O  O  O  O  O  O  O  O  O  O  O  O  O\n",
        "9  O  O  O  O  O  O  O  O  O  O  O  O  O  O\n",
        "10 O  O  O  O  O  O  O  O  O  O  O  O  O  O\n",
        "11 O  O  O  O  O  O  O  O  O  O  O  O  O  O\n",
        "12 O  O  O  O  O  O  O  O  O  O  O  O  O  O\n",
        "13 O  O  O  O  O  O  O  O  O  O  O  O  O  O\n",
        "Current player: Beatrix"
       ]
      },
      {
       "output_type": "stream",
       "stream": "stdout",
       "text": [
        "\n",
        "   0  1  2  3  4  5  6  7  8  9  10 11 12 13\n",
        "0  A  A  A  A  O  O  O  O  O  O  O  O  O  O\n",
        "1  O  O  A  O  O  O  O  O  O  O  O  O  O  O\n",
        "2  O  O  O  O  O  O  O  O  O  O  O  O  O  O\n",
        "3  O  O  O  O  O  O  O  O  O  O  O  O  O  O\n",
        "4  O  O  O  O  O  O  O  O  O  O  O  O  O  O\n",
        "5  O  O  O  O  O  O  O  O  O  O  O  O  O  O\n",
        "6  O  O  O  O  O  O  O  O  O  O  O  O  O  O\n",
        "7  O  O  O  O  O  O  O  O  O  O  O  O  O  O\n",
        "8  O  O  O  O  O  O  O  O  O  O  O  O  O  O\n",
        "9  O  O  O  O  O  O  O  O  O  O  O  O  O  O\n",
        "10 O  O  O  O  O  O  O  O  O  O  O  O  O  O\n",
        "11 O  O  O  O  O  O  O  O  O  O  O  O  O  O\n",
        "12 O  O  O  O  O  O  O  O  O  O  O  O  O  B\n",
        "13 O  O  O  O  O  O  O  O  O  O  O  O  O  B\n",
        "Current player: Arnold"
       ]
      },
      {
       "output_type": "stream",
       "stream": "stdout",
       "text": [
        "\n",
        "   0  1  2  3  4  5  6  7  8  9  10 11 12 13\n",
        "0  A  A  A  A  O  O  O  O  O  O  O  O  O  O\n",
        "1  O  O  A  O  O  O  O  O  O  O  O  O  O  O\n",
        "2  O  O  O  A  O  O  O  O  O  O  O  O  O  O\n",
        "3  O  O  A  A  A  O  O  O  O  O  O  O  O  O\n",
        "4  O  O  O  A  O  O  O  O  O  O  O  O  O  O\n",
        "5  O  O  O  O  O  O  O  O  O  O  O  O  O  O\n",
        "6  O  O  O  O  O  O  O  O  O  O  O  O  O  O\n",
        "7  O  O  O  O  O  O  O  O  O  O  O  O  O  O\n",
        "8  O  O  O  O  O  O  O  O  O  O  O  O  O  O\n",
        "9  O  O  O  O  O  O  O  O  O  O  O  O  O  O\n",
        "10 O  O  O  O  O  O  O  O  O  O  O  O  O  O\n",
        "11 O  O  O  O  O  O  O  O  O  O  O  O  O  O\n",
        "12 O  O  O  O  O  O  O  O  O  O  O  O  O  B\n",
        "13 O  O  O  O  O  O  O  O  O  O  O  O  O  B\n",
        "Current player: Beatrix"
       ]
      },
      {
       "output_type": "stream",
       "stream": "stdout",
       "text": [
        "\n",
        "   0  1  2  3  4  5  6  7  8  9  10 11 12 13\n",
        "0  A  A  A  A  O  O  O  O  O  O  O  O  O  O\n",
        "1  O  O  A  O  O  O  O  O  O  O  O  O  O  O\n",
        "2  O  O  O  A  O  O  O  O  O  O  O  O  O  O\n",
        "3  O  O  A  A  A  O  O  O  O  O  O  O  O  O\n",
        "4  O  O  O  A  O  O  O  O  O  O  O  O  O  O\n",
        "5  O  O  O  O  O  O  O  O  O  O  O  O  O  O\n",
        "6  O  O  O  O  O  O  O  O  O  O  O  O  O  O\n",
        "7  O  O  O  O  O  O  O  O  O  O  O  O  O  O\n",
        "8  O  O  O  O  O  O  O  O  O  O  O  O  O  O\n",
        "9  O  O  O  O  O  O  O  O  O  O  O  O  B  O\n",
        "10 O  O  O  O  O  O  O  O  O  O  O  B  B  O\n",
        "11 O  O  O  O  O  O  O  O  O  O  O  O  B  O\n",
        "12 O  O  O  O  O  O  O  O  O  O  O  O  O  B\n",
        "13 O  O  O  O  O  O  O  O  O  O  O  O  O  B\n",
        "Current player: Arnold"
       ]
      },
      {
       "output_type": "stream",
       "stream": "stdout",
       "text": [
        "\n",
        "   0  1  2  3  4  5  6  7  8  9  10 11 12 13\n",
        "0  A  A  A  A  O  O  O  O  O  O  O  O  O  O\n",
        "1  O  O  A  O  O  O  O  O  O  O  O  O  O  O\n",
        "2  O  O  O  A  O  O  O  O  O  O  O  O  O  O\n",
        "3  O  O  A  A  A  O  O  O  O  O  O  O  O  O\n",
        "4  O  O  O  A  O  O  O  O  O  O  O  O  O  O\n",
        "5  O  O  O  O  A  A  A  A  O  O  O  O  O  O\n",
        "6  O  O  O  O  O  O  O  O  O  O  O  O  O  O\n",
        "7  O  O  O  O  O  O  O  O  O  O  O  O  O  O\n",
        "8  O  O  O  O  O  O  O  O  O  O  O  O  O  O\n",
        "9  O  O  O  O  O  O  O  O  O  O  O  O  B  O\n",
        "10 O  O  O  O  O  O  O  O  O  O  O  B  B  O\n",
        "11 O  O  O  O  O  O  O  O  O  O  O  O  B  O\n",
        "12 O  O  O  O  O  O  O  O  O  O  O  O  O  B\n",
        "13 O  O  O  O  O  O  O  O  O  O  O  O  O  B\n",
        "Current player: Beatrix"
       ]
      },
      {
       "output_type": "stream",
       "stream": "stdout",
       "text": [
        "\n",
        "   0  1  2  3  4  5  6  7  8  9  10 11 12 13\n",
        "0  A  A  A  A  O  O  O  O  O  O  O  O  O  O\n",
        "1  O  O  A  O  O  O  O  O  O  O  O  O  O  O\n",
        "2  O  O  O  A  O  O  O  O  O  O  O  O  O  O\n",
        "3  O  O  A  A  A  O  O  O  O  O  O  O  O  O\n",
        "4  O  O  O  A  O  O  O  O  O  O  O  O  O  O\n",
        "5  O  O  O  O  A  A  A  A  O  O  O  O  O  O\n",
        "6  O  O  O  O  O  O  O  O  O  O  O  O  O  O\n",
        "7  O  O  O  O  O  O  O  O  O  O  O  O  O  O\n",
        "8  O  O  O  O  O  O  O  O  O  O  O  O  O  O\n",
        "9  O  O  O  O  O  O  O  O  O  O  O  O  B  O\n",
        "10 O  O  O  O  O  O  O  O  O  O  O  B  B  O\n",
        "11 O  O  O  O  O  O  O  O  O  O  O  O  B  O\n",
        "12 O  O  O  O  O  O  O  O  O  B  B  B  O  B\n",
        "13 O  O  O  O  O  O  O  O  O  O  O  O  O  B\n",
        "Current player: Arnold"
       ]
      },
      {
       "output_type": "stream",
       "stream": "stdout",
       "text": [
        "\n",
        "   0  1  2  3  4  5  6  7  8  9  10 11 12 13\n",
        "0  A  A  A  A  O  O  O  O  O  O  O  O  O  O\n",
        "1  O  O  A  O  O  O  O  O  O  O  O  O  O  O\n",
        "2  O  O  O  A  O  A  A  A  O  O  O  O  O  O\n",
        "3  O  O  A  A  A  O  O  O  O  O  O  O  O  O\n",
        "4  O  O  O  A  O  O  O  O  O  O  O  O  O  O\n",
        "5  O  O  O  O  A  A  A  A  O  O  O  O  O  O\n",
        "6  O  O  O  O  O  O  O  O  O  O  O  O  O  O\n",
        "7  O  O  O  O  O  O  O  O  O  O  O  O  O  O\n",
        "8  O  O  O  O  O  O  O  O  O  O  O  O  O  O\n",
        "9  O  O  O  O  O  O  O  O  O  O  O  O  B  O\n",
        "10 O  O  O  O  O  O  O  O  O  O  O  B  B  O\n",
        "11 O  O  O  O  O  O  O  O  O  O  O  O  B  O\n",
        "12 O  O  O  O  O  O  O  O  O  B  B  B  O  B\n",
        "13 O  O  O  O  O  O  O  O  O  O  O  O  O  B\n",
        "Current player: Beatrix"
       ]
      },
      {
       "output_type": "stream",
       "stream": "stdout",
       "text": [
        "\n",
        "   0  1  2  3  4  5  6  7  8  9  10 11 12 13\n",
        "0  A  A  A  A  O  O  O  O  O  O  O  O  O  O\n",
        "1  O  O  A  O  O  O  O  O  O  O  O  O  O  O\n",
        "2  O  O  O  A  O  A  A  A  O  O  O  O  O  O\n",
        "3  O  O  A  A  A  O  O  O  O  O  O  O  O  O\n",
        "4  O  O  O  A  O  O  O  O  O  O  O  O  O  O\n",
        "5  O  O  O  O  A  A  A  A  O  O  O  O  O  O\n",
        "6  O  O  O  O  O  O  O  O  O  O  O  O  O  O\n",
        "7  O  O  O  O  O  O  O  O  O  O  O  O  O  O\n",
        "8  O  O  O  O  O  O  O  O  O  O  O  O  O  O\n",
        "9  O  O  O  O  O  O  O  O  O  O  O  O  B  O\n",
        "10 O  O  O  O  O  O  O  O  B  O  O  B  B  O\n",
        "11 O  O  O  O  O  O  B  B  B  O  O  O  B  O\n",
        "12 O  O  O  O  O  O  O  O  O  B  B  B  O  B\n",
        "13 O  O  O  O  O  O  O  O  O  O  O  O  O  B\n",
        "Current player: Arnold"
       ]
      },
      {
       "output_type": "stream",
       "stream": "stdout",
       "text": [
        "\n",
        "  "
       ]
      },
      {
       "output_type": "stream",
       "stream": "stdout",
       "text": [
        " 0  1  2  3  4  5  6  7  8  9  10 11 12 13\n",
        "0  A  A  A  A  O  O  O  O  O  O  O  O  O  O\n",
        "1  O  O  A  O  O  O  O  O  O  O  O  O  O  O\n",
        "2  O  O  O  A  O  A  A  A  O  O  O  O  O  O\n",
        "3  O  O  A  A  A  O  O  O  O  O  O  O  O  O\n",
        "4  O  O  O  A  O  O  O  O  A  A  A  A  A  O\n",
        "5  O  O  O  O  A  A  A  A  O  O  O  O  O  O\n",
        "6  O  O  O  O  O  O  O  O  O  O  O  O  O  O\n",
        "7  O  O  O  O  O  O  O  O  O  O  O  O  O  O\n",
        "8  O  O  O  O  O  O  O  O  O  O  O  O  O  O\n",
        "9  O  O  O  O  O  O  O  O  O  O  O  O  B  O\n",
        "10 O  O  O  O  O  O  O  O  B  O  O  B  B  O\n",
        "11 O  O  O  O  O  O  B  B  B  O  O  O  B  O\n",
        "12 O  O  O  O  O  O  O  O  O  B  B  B  O  B\n",
        "13 O  O  O  O  O  O  O  O  O  O  O  O  O  B\n",
        "Current player: Beatrix"
       ]
      },
      {
       "output_type": "stream",
       "stream": "stdout",
       "text": [
        "\n",
        "  "
       ]
      },
      {
       "output_type": "stream",
       "stream": "stdout",
       "text": [
        " 0  1  2  3  4  5  6  7  8  9  10 11 12 13\n",
        "0  A  A  A  A  O  O  O  O  O  O  O  O  O  O\n",
        "1  O  O  A  O  O  O  O  O  O  O  O  O  O  O\n",
        "2  O  O  O  A  O  A  A  A  O  O  O  O  O  O\n",
        "3  O  O  A  A  A  O  O  O  O  O  O  O  O  O\n",
        "4  O  O  O  A  O  O  O  O  A  A  A  A  A  O\n",
        "5  O  O  O  O  A  A  A  A  O  O  O  O  O  O\n",
        "6  O  O  O  O  O  O  O  O  O  O  O  O  O  O\n",
        "7  O  O  O  O  O  O  O  O  O  O  O  O  O  O\n",
        "8  O  O  O  O  O  O  O  O  O  O  O  O  O  O\n",
        "9  O  O  O  B  B  B  B  B  O  O  O  O  B  O\n",
        "10 O  O  O  O  O  O  O  O  B  O  O  B  B  O\n",
        "11 O  O  O  O  O  O  B  B  B  O  O  O  B  O\n",
        "12 O  O  O  O  O  O  O  O  O  B  B  B  O  B\n",
        "13 O  O  O  O  O  O  O  O  O  O  O  O  O  B\n",
        "Current player: Arnold"
       ]
      },
      {
       "output_type": "stream",
       "stream": "stdout",
       "text": [
        "\n",
        "  "
       ]
      },
      {
       "output_type": "stream",
       "stream": "stdout",
       "text": [
        " 0  1  2  3  4  5  6  7  8  9  10 11 12 13\n",
        "0  A  A  A  A  O  O  O  O  O  O  O  O  O  O\n",
        "1  O  O  A  O  O  O  O  O  O  O  O  O  O  O\n",
        "2  O  O  O  A  O  A  A  A  O  O  O  O  O  O\n",
        "3  O  O  A  A  A  O  O  O  O  O  O  O  O  O\n",
        "4  A  O  O  A  O  O  O  O  A  A  A  A  A  O\n",
        "5  A  A  A  O  A  A  A  A  O  O  O  O  O  O\n",
        "6  O  A  O  O  O  O  O  O  O  O  O  O  O  O\n",
        "7  O  O  O  O  O  O  O  O  O  O  O  O  O  O\n",
        "8  O  O  O  O  O  O  O  O  O  O  O  O  O  O\n",
        "9  O  O  O  B  B  B  B  B  O  O  O  O  B  O\n",
        "10 O  O  O  O  O  O  O  O  B  O  O  B  B  O\n",
        "11 O  O  O  O  O  O  B  B  B  O  O  O  B  O\n",
        "12 O  O  O  O  O  O  O  O  O  B  B  B  O  B\n",
        "13 O  O  O  O  O  O  O  O  O  O  O  O  O  B\n",
        "Current player: Beatrix"
       ]
      },
      {
       "output_type": "stream",
       "stream": "stdout",
       "text": [
        "\n",
        "  "
       ]
      },
      {
       "output_type": "stream",
       "stream": "stdout",
       "text": [
        " 0  1  2  3  4  5  6  7  8  9  10 11 12 13\n",
        "0  A  A  A  A  O  O  O  O  O  O  O  O  O  O\n",
        "1  O  O  A  O  O  O  O  O  O  O  O  O  O  O\n",
        "2  O  O  O  A  O  A  A  A  O  O  O  O  O  O\n",
        "3  O  O  A  A  A  O  O  O  O  O  O  O  O  O\n",
        "4  A  O  O  A  O  O  O  O  A  A  A  A  A  O\n",
        "5  A  A  A  O  A  A  A  A  O  O  O  O  O  O\n",
        "6  O  A  O  O  O  O  O  O  O  O  O  O  O  O\n",
        "7  O  O  O  O  O  O  O  O  O  O  O  O  O  O\n",
        "8  B  O  O  O  O  O  O  O  O  O  O  O  O  O\n",
        "9  B  B  O  B  B  B  B  B  O  O  O  O  B  O\n",
        "10 O  B  B  O  O  O  O  O  B  O  O  B  B  O\n",
        "11 O  O  O  O  O  O  B  B  B  O  O  O  B  O\n",
        "12 O  O  O  O  O  O  O  O  O  B  B  B  O  B\n",
        "13 O  O  O  O  O  O  O  O  O  O  O  O  O  B\n",
        "Current player: Arnold"
       ]
      },
      {
       "output_type": "stream",
       "stream": "stdout",
       "text": [
        "\n",
        "   0  1  2  3  4  5  6  7  8  9  10 11 12 13\n",
        "0  A  A  A  A  O  O  O  O  O  O  O  O  O  O\n",
        "1  O  O  A  O  A  O  O  O  O  O  O  O  O  O\n",
        "2  O  O  O  A  O  A  A  A  O  O  O  O  O  O\n",
        "3  O  O  A  A  A  O  O  O  O  O  O  O  O  O\n",
        "4  A  O  O  A  O  O  O  O  A  A  A  A  A  O\n",
        "5  A  A  A  O  A  A  A  A  O  O  O  O  O  O\n",
        "6  O  A  O  O  O  O  O  O  O  O  O  O  O  O\n",
        "7  O  O  O  O  O  O  O  O  O  O  O  O  O  O\n",
        "8  B  O  O  O  O  O  O  O  O  O  O  O  O  O\n",
        "9  B  B  O  B  B  B  B  B  O  O  O  O  B  O\n",
        "10 O  B  B  O  O  O  O  O  B  O  O  B  B  O\n",
        "11 O  O  O  O  O  O  B  B  B  O  O  O  B  O\n",
        "12 O  O  O  O  O  O  O  O  O  B  B  B  O  B\n",
        "13 O  O  O  O  O  O  O  O  O  O  O  O  O  B\n",
        "Current player: Beatrix"
       ]
      },
      {
       "output_type": "stream",
       "stream": "stdout",
       "text": [
        "\n",
        "  "
       ]
      },
      {
       "output_type": "stream",
       "stream": "stdout",
       "text": [
        " 0  1  2  3  4  5  6  7  8  9  10 11 12 13\n",
        "0  A  A  A  A  O  O  O  O  O  O  O  O  O  O\n",
        "1  O  O  A  O  A  O  O  O  O  O  O  O  O  O\n",
        "2  O  O  O  A  O  A  A  A  O  O  O  O  O  O\n",
        "3  O  O  A  A  A  O  O  O  O  O  O  O  O  O\n",
        "4  A  O  O  A  O  O  O  O  A  A  A  A  A  O\n",
        "5  A  A  A  O  A  A  A  A  O  O  O  O  O  O\n",
        "6  O  A  B  B  B  O  O  O  O  O  O  O  O  O\n",
        "7  O  O  B  O  O  O  O  O  O  O  O  O  O  O\n",
        "8  B  O  B  O  O  O  O  O  O  O  O  O  O  O\n",
        "9  B  B  O  B  B  B  B  B  O  O  O  O  B  O\n",
        "10 O  B  B  O  O  O  O  O  B  O  O  B  B  O\n",
        "11 O  O  O  O  O  O  B  B  B  O  O  O  B  O\n",
        "12 O  O  O  O  O  O  O  O  O  B  B  B  O  B\n",
        "13 O  O  O  O  O  O  O  O  O  O  O  O  O  B\n",
        "Current player: Arnold"
       ]
      },
      {
       "output_type": "stream",
       "stream": "stdout",
       "text": [
        "\n",
        "   0  1  2  3  4  5  6  7  8  9  10 11 12 13\n",
        "0  A  A  A  A  O  O  O  A  A  O  O  O  O  O\n",
        "1  O  O  A  O  A  O  O  O  A  O  O  O  O  O\n",
        "2  O  O  O  A  O  A  A  A  O  O  O  O  O  O\n",
        "3  O  O  A  A  A  O  O  O  O  O  O  O  O  O\n",
        "4  A  O  O  A  O  O  O  O  A  A  A  A  A  O\n",
        "5  A  A  A  O  A  A  A  A  O  O  O  O  O  O\n",
        "6  O  A  B  B  B  O  O  O  O  O  O  O  O  O\n",
        "7  O  O  B  O  O  O  O  O  O  O  O  O  O  O\n",
        "8  B  O  B  O  O  O  O  O  O  O  O  O  O  O\n",
        "9  B  B  O  B  B  B  B  B  O  O  O  O  B  O\n",
        "10 O  B  B  O  O  O  O  O  B  O  O  B  B  O\n",
        "11 O  O  O  O  O  O  B  B  B  O  O  O  B  O\n",
        "12 O  O  O  O  O  O  O  O  O  B  B  B  O  B\n",
        "13 O  O  O  O  O  O  O  O  O  O  O  O  O  B\n",
        "Current player: Beatrix"
       ]
      },
      {
       "output_type": "stream",
       "stream": "stdout",
       "text": [
        "\n",
        "  "
       ]
      },
      {
       "output_type": "stream",
       "stream": "stdout",
       "text": [
        " 0  1  2  3  4  5  6  7  8  9  10 11 12 13\n",
        "0  A  A  A  A  O  O  O  A  A  O  O  O  O  O\n",
        "1  O  O  A  O  A  O  O  O  A  O  O  O  O  O\n",
        "2  O  O  O  A  O  A  A  A  O  O  O  O  O  O\n",
        "3  O  O  A  A  A  O  O  O  O  O  O  O  O  O\n",
        "4  A  O  O  A  O  O  O  O  A  A  A  A  A  O\n",
        "5  A  A  A  O  A  A  A  A  O  O  O  O  O  O\n",
        "6  O  A  B  B  B  O  O  O  O  O  O  O  O  O\n",
        "7  O  O  B  O  O  O  O  O  B  B  B  O  O  O\n",
        "8  B  O  B  O  O  O  O  O  O  B  O  O  O  O\n",
        "9  B  B  O  B  B  B  B  B  O  B  O  O  B  O\n",
        "10 O  B  B  O  O  O  O  O  B  O  O  B  B  O\n",
        "11 O  O  O  O  O  O  B  B  B  O  O  O  B  O\n",
        "12 O  O  O  O  O  O  O  O  O  B  B  B  O  B\n",
        "13 O  O  O  O  O  O  O  O  O  O  O  O  O  B\n",
        "Current player: Arnold"
       ]
      },
      {
       "output_type": "stream",
       "stream": "stdout",
       "text": [
        "\n",
        "  "
       ]
      },
      {
       "output_type": "stream",
       "stream": "stdout",
       "text": [
        " 0  1  2  3  4  5  6  7  8  9  10 11 12 13\n",
        "0  A  A  A  A  O  O  O  A  A  O  O  O  O  O\n",
        "1  O  O  A  O  A  O  O  O  A  O  O  A  A  O\n",
        "2  O  O  O  A  O  A  A  A  O  O  O  O  A  A\n",
        "3  O  O  A  A  A  O  O  O  O  O  O  O  O  A\n",
        "4  A  O  O  A  O  O  O  O  A  A  A  A  A  O\n",
        "5  A  A  A  O  A  A  A  A  O  O  O  O  O  O\n",
        "6  O  A  B  B  B  O  O  O  O  O  O  O  O  O\n",
        "7  O  O  B  O  O  O  O  O  B  B  B  O  O  O\n",
        "8  B  O  B  O  O  O  O  O  O  B  O  O  O  O\n",
        "9  B  B  O  B  B  B  B  B  O  B  O  O  B  O\n",
        "10 O  B  B  O  O  O  O  O  B  O  O  B  B  O\n",
        "11 O  O  O  O  O  O  B  B  B  O  O  O  B  O\n",
        "12 O  O  O  O  O  O  O  O  O  B  B  B  O  B\n",
        "13 O  O  O  O  O  O  O  O  O  O  O  O  O  B\n",
        "Current player: Beatrix"
       ]
      },
      {
       "output_type": "stream",
       "stream": "stdout",
       "text": [
        "\n",
        "  "
       ]
      },
      {
       "output_type": "stream",
       "stream": "stdout",
       "text": [
        " 0  1  2  3  4  5  6  7  8  9  10 11 12 13\n",
        "0  A  A  A  A  O  O  O  A  A  O  O  O  O  O\n",
        "1  O  O  A  O  A  O  O  O  A  O  O  A  A  O\n",
        "2  O  O  O  A  O  A  A  A  O  O  O  O  A  A\n",
        "3  O  O  A  A  A  O  O  O  O  O  O  O  O  A\n",
        "4  A  O  O  A  O  O  O  O  A  A  A  A  A  O\n",
        "5  A  A  A  O  A  A  A  A  O  O  O  O  O  O\n",
        "6  O  A  B  B  B  O  O  O  O  O  O  O  O  O\n",
        "7  O  O  B  O  O  O  O  O  B  B  B  O  O  O\n",
        "8  B  O  B  O  O  O  O  O  O  B  O  O  O  O\n",
        "9  B  B  O  B  B  B  B  B  O  B  O  O  B  O\n",
        "10 O  B  B  O  O  O  O  O  B  O  O  B  B  O\n",
        "11 O  O  O  B  B  O  B  B  B  O  O  O  B  O\n",
        "12 O  O  O  B  B  O  O  O  O  B  B  B  O  B\n",
        "13 O  O  O  O  O  O  O  O  O  O  O  O  O  B\n",
        "Current player: Arnold"
       ]
      },
      {
       "output_type": "stream",
       "stream": "stdout",
       "text": [
        "\n",
        "  "
       ]
      },
      {
       "output_type": "stream",
       "stream": "stdout",
       "text": [
        " 0  1  2  3  4  5  6  7  8  9  10 11 12 13\n",
        "0  A  A  A  A  O  O  O  A  A  O  O  O  O  O\n",
        "1  O  O  A  O  A  O  O  O  A  O  O  A  A  O\n",
        "2  O  O  O  A  O  A  A  A  O  O  O  O  A  A\n",
        "3  O  O  A  A  A  O  O  O  O  O  O  O  O  A\n",
        "4  A  O  O  A  O  O  O  O  A  A  A  A  A  O\n",
        "5  A  A  A  O  A  A  A  A  O  O  O  O  O  A\n",
        "6  O  A  B  B  B  O  O  O  O  O  O  O  O  A\n",
        "7  O  O  B  O  O  O  O  O  B  B  B  O  O  A\n",
        "8  B  O  B  O  O  O  O  O  O  B  O  O  A  A\n",
        "9  B  B  O  B  B  B  B  B  O  B  O  O  B  O\n",
        "10 O  B  B  O  O  O  O  O  B  O  O  B  B  O\n",
        "11 O  O  O  B  B  O  B  B  B  O  O  O  B  O\n",
        "12 O  O  O  B  B  O  O  O  O  B  B  B  O  B\n",
        "13 O  O  O  O  O  O  O  O  O  O  O  O  O  B\n",
        "Current player: Beatrix"
       ]
      },
      {
       "output_type": "stream",
       "stream": "stdout",
       "text": [
        "\n",
        "  "
       ]
      },
      {
       "output_type": "stream",
       "stream": "stdout",
       "text": [
        " 0  1  2  3  4  5  6  7  8  9  10 11 12 13\n",
        "0  A  A  A  A  O  O  O  A  A  O  O  O  O  O\n",
        "1  O  O  A  O  A  O  O  O  A  O  O  A  A  O\n",
        "2  O  O  O  A  O  A  A  A  O  O  O  O  A  A\n",
        "3  O  O  A  A  A  O  O  O  O  O  O  O  O  A\n",
        "4  A  O  O  A  O  O  O  O  A  A  A  A  A  O\n",
        "5  A  A  A  O  A  A  A  A  B  B  B  B  O  A\n",
        "6  O  A  B  B  B  O  O  O  O  O  O  B  O  A\n",
        "7  O  O  B  O  O  O  O  O  B  B  B  O  O  A\n",
        "8  B  O  B  O  O  O  O  O  O  B  O  O  A  A\n",
        "9  B  B  O  B  B  B  B  B  O  B  O  O  B  O\n",
        "10 O  B  B  O  O  O  O  O  B  O  O  B  B  O\n",
        "11 O  O  O  B  B  O  B  B  B  O  O  O  B  O\n",
        "12 O  O  O  B  B  O  O  O  O  B  B  B  O  B\n",
        "13 O  O  O  O  O  O  O  O  O  O  O  O  O  B\n",
        "Current player: Arnold"
       ]
      },
      {
       "output_type": "stream",
       "stream": "stdout",
       "text": [
        "\n",
        "  "
       ]
      },
      {
       "output_type": "stream",
       "stream": "stdout",
       "text": [
        " 0  1  2  3  4  5  6  7  8  9  10 11 12 13\n",
        "0  A  A  A  A  O  O  O  A  A  O  O  O  O  O\n",
        "1  O  O  A  O  A  O  O  O  A  O  O  A  A  O\n",
        "2  O  O  O  A  O  A  A  A  O  O  O  O  A  A\n",
        "3  O  O  A  A  A  O  O  O  O  O  O  O  O  A\n",
        "4  A  O  O  A  O  O  O  O  A  A  A  A  A  O\n",
        "5  A  A  A  O  A  A  A  A  B  B  B  B  O  A\n",
        "6  O  A  B  B  B  O  O  O  O  O  O  B  O  A\n",
        "7  O  O  B  O  O  O  O  O  B  B  B  O  O  A\n",
        "8  B  O  B  O  O  O  O  O  O  B  O  O  A  A\n",
        "9  B  B  O  B  B  B  B  B  O  B  A  A  B  O\n",
        "10 O  B  B  O  O  O  O  O  B  O  A  B  B  O\n",
        "11 O  O  O  B  B  O  B  B  B  O  A  A  B  O\n",
        "12 O  O  O  B  B  O  O  O  O  B  B  B  O  B\n",
        "13 O  O  O  O  O  O  O  O  O  O  O  O  O  B\n",
        "Current player: Beatrix"
       ]
      },
      {
       "output_type": "stream",
       "stream": "stdout",
       "text": [
        "\n",
        "  "
       ]
      },
      {
       "output_type": "stream",
       "stream": "stdout",
       "text": [
        " 0  1  2  3  4  5  6  7  8  9  10 11 12 13\n",
        "0  A  A  A  A  O  O  O  A  A  O  O  O  O  O\n",
        "1  O  O  A  O  A  O  O  O  A  O  O  A  A  O\n",
        "2  O  O  O  A  O  A  A  A  O  O  O  O  A  A\n",
        "3  O  O  A  A  A  O  O  B  B  B  O  O  O  A\n",
        "4  A  O  O  A  O  O  B  B  A  A  A  A  A  O\n",
        "5  A  A  A  O  A  A  A  A  B  B  B  B  O  A\n",
        "6  O  A  B  B  B  O  O  O  O  O  O  B  O  A\n",
        "7  O  O  B  O  O  O  O  O  B  B  B  O  O  A\n",
        "8  B  O  B  O  O  O  O  O  O  B  O  O  A  A\n",
        "9  B  B  O  B  B  B  B  B  O  B  A  A  B  O\n",
        "10 O  B  B  O  O  O  O  O  B  O  A  B  B  O\n",
        "11 O  O  O  B  B  O  B  B  B  O  A  A  B  O\n",
        "12 O  O  O  B  B  O  O  O  O  B  B  B  O  B\n",
        "13 O  O  O  O  O  O  O  O  O  O  O  O  O  B\n",
        "Current player: Arnold"
       ]
      },
      {
       "output_type": "stream",
       "stream": "stdout",
       "text": [
        "\n",
        "  "
       ]
      },
      {
       "output_type": "stream",
       "stream": "stdout",
       "text": [
        " 0  1  2  3  4  5  6  7  8  9  10 11 12 13\n",
        "0  A  A  A  A  O  O  O  A  A  O  O  O  O  O\n",
        "1  O  O  A  O  A  O  O  O  A  O  O  A  A  O\n",
        "2  O  O  O  A  O  A  A  A  O  O  O  O  A  A\n",
        "3  O  O  A  A  A  O  O  B  B  B  O  O  O  A\n",
        "4  A  O  O  A  O  O  B  B  A  A  A  A  A  O\n",
        "5  A  A  A  O  A  A  A  A  B  B  B  B  O  A\n",
        "6  O  A  B  B  B  O  O  O  O  O  O  B  O  A\n",
        "7  O  O  B  O  O  O  O  O  B  B  B  O  O  A\n",
        "8  B  O  B  O  O  O  O  O  O  B  O  O  A  A\n",
        "9  B  B  O  B  B  B  B  B  O  B  A  A  B  O\n",
        "10 O  B  B  O  O  O  O  O  B  O  A  B  B  O\n",
        "11 O  O  O  B  B  O  B  B  B  O  A  A  B  O\n",
        "12 O  O  O  B  B  O  O  O  O  B  B  B  A  B\n",
        "13 O  O  O  O  O  O  O  O  O  O  A  A  A  B\n",
        "Current player: Beatrix"
       ]
      },
      {
       "output_type": "stream",
       "stream": "stdout",
       "text": [
        "\n",
        "   0  1  2  3  4  5  6  7  8  9  10 11 12 13\n",
        "0  A  A  A  A  O  O  O  A  A  O  O  O  O  O\n",
        "1  O  O  A  O  A  O  O  O  A  O  O  A  A  O\n",
        "2  O  O  O  A  O  A  A  A  O  O  O  O  A  A\n",
        "3  O  O  A  A  A  O  O  B  B  B  O  O  O  A\n",
        "4  A  O  O  A  O  O  B  B  A  A  A  A  A  O\n",
        "5  A  A  A  O  A  A  A  A  B  B  B  B  O  A\n",
        "6  O  A  B  B  B  O  O  O  O  O  O  B  O  A\n",
        "7  O  O  B  O  O  O  O  O  B  B  B  O  O  A\n",
        "8  B  O  B  O  O  O  O  O  O  B  O  O  A  A\n",
        "9  B  B  O  B  B  B  B  B  O  B  A  A  B  O\n",
        "10 O  B  B  O  O  O  O  O  B  O  A  B  B  O\n",
        "11 B  O  O  B  B  O  B  B  B  O  A  A  B  O\n",
        "12 O  O  O  B  B  O  O  O  O  B  B  B  A  B\n",
        "13 O  O  O  O  O  O  O  O  O  O  A  A  A  B\n",
        "Current player: Arnold"
       ]
      },
      {
       "output_type": "stream",
       "stream": "stdout",
       "text": [
        "\n",
        "  "
       ]
      },
      {
       "output_type": "stream",
       "stream": "stdout",
       "text": [
        " 0  1  2  3  4  5  6  7  8  9  10 11 12 13\n",
        "0  A  A  A  A  O  O  O  A  A  O  O  O  O  O\n",
        "1  O  O  A  O  A  O  O  O  A  O  O  A  A  O\n",
        "2  O  O  O  A  O  A  A  A  O  O  O  O  A  A\n",
        "3  O  O  A  A  A  O  O  B  B  B  O  O  O  A\n",
        "4  A  O  O  A  O  O  B  B  A  A  A  A  A  O\n",
        "5  A  A  A  O  A  A  A  A  B  B  B  B  O  A\n",
        "6  O  A  B  B  B  O  O  O  A  A  O  B  O  A\n",
        "7  O  O  B  O  O  O  O  O  B  B  B  O  O  A\n",
        "8  B  O  B  O  O  O  O  O  O  B  O  O  A  A\n",
        "9  B  B  O  B  B  B  B  B  O  B  A  A  B  O\n",
        "10 O  B  B  O  O  O  O  O  B  O  A  B  B  O\n",
        "11 B  O  O  B  B  O  B  B  B  O  A  A  B  O\n",
        "12 O  O  O  B  B  O  O  O  O  B  B  B  A  B\n",
        "13 O  O  O  O  O  O  O  O  O  O  A  A  A  B\n",
        "Current player: Beatrix"
       ]
      },
      {
       "output_type": "stream",
       "stream": "stdout",
       "text": [
        "\n",
        "  "
       ]
      },
      {
       "output_type": "stream",
       "stream": "stdout",
       "text": [
        " 0  1  2  3  4  5  6  7  8  9  10 11 12 13\n",
        "0  A  A  A  A  O  O  O  A  A  O  O  O  O  O\n",
        "1  O  O  A  O  A  O  O  O  A  O  O  A  A  O\n",
        "2  O  O  O  A  O  A  A  A  O  O  O  O  A  A\n",
        "3  O  O  A  A  A  O  O  B  B  B  O  O  O  A\n",
        "4  A  O  O  A  O  O  B  B  A  A  A  A  A  O\n",
        "5  A  A  A  O  A  A  A  A  B  B  B  B  O  A\n",
        "6  O  A  B  B  B  O  O  O  A  A  O  B  O  A\n",
        "7  O  O  B  O  O  O  O  O  B  B  B  O  O  A\n",
        "8  B  O  B  O  O  O  O  O  O  B  O  O  A  A\n",
        "9  B  B  O  B  B  B  B  B  O  B  A  A  B  O\n",
        "10 O  B  B  O  O  O  O  O  B  O  A  B  B  O\n",
        "11 B  O  O  B  B  O  B  B  B  O  A  A  B  O\n",
        "12 O  B  O  B  B  O  O  O  O  B  B  B  A  B\n",
        "13 O  B  B  O  O  O  O  O  O  O  A  A  A  B\n",
        "Current player: Arnold"
       ]
      },
      {
       "output_type": "stream",
       "stream": "stdout",
       "text": [
        "\n",
        "  "
       ]
      },
      {
       "output_type": "stream",
       "stream": "stdout",
       "text": [
        " 0  1  2  3  4  5  6  7  8  9  10 11 12 13\n",
        "0  A  A  A  A  O  O  O  A  A  O  O  O  O  O\n",
        "1  O  O  A  O  A  O  O  O  A  O  O  A  A  O\n",
        "2  O  O  O  A  O  A  A  A  O  O  O  O  A  A\n",
        "3  O  O  A  A  A  O  O  B  B  B  O  O  O  A\n",
        "4  A  O  O  A  O  O  B  B  A  A  A  A  A  O\n",
        "5  A  A  A  O  A  A  A  A  B  B  B  B  O  A\n",
        "6  O  A  B  B  B  O  O  O  A  A  O  B  O  A\n",
        "7  O  O  B  O  O  O  A  A  B  B  B  O  O  A\n",
        "8  B  O  B  O  O  A  A  O  O  B  O  O  A  A\n",
        "9  B  B  O  B  B  B  B  B  O  B  A  A  B  O\n",
        "10 O  B  B  O  O  O  O  O  B  O  A  B  B  O\n",
        "11 B  O  O  B  B  O  B  B  B  O  A  A  B  O\n",
        "12 O  B  O  B  B  O  O  O  O  B  B  B  A  B\n",
        "13 O  B  B  O  O  O  O  O  O  O  A  A  A  B\n",
        "Current player: Beatrix"
       ]
      },
      {
       "output_type": "stream",
       "stream": "stdout",
       "text": [
        "\n",
        "  "
       ]
      },
      {
       "output_type": "stream",
       "stream": "stdout",
       "text": [
        " 0  1  2  3  4  5  6  7  8  9  10 11 12 13\n",
        "0  A  A  A  A  O  O  O  A  A  B  B  O  O  O\n",
        "1  O  O  A  O  A  O  O  O  A  O  B  A  A  O\n",
        "2  O  O  O  A  O  A  A  A  O  O  B  B  A  A\n",
        "3  O  O  A  A  A  O  O  B  B  B  O  O  O  A\n",
        "4  A  O  O  A  O  O  B  B  A  A  A  A  A  O\n",
        "5  A  A  A  O  A  A  A  A  B  B  B  B  O  A\n",
        "6  O  A  B  B  B  O  O  O  A  A  O  B  O  A\n",
        "7  O  O  B  O  O  O  A  A  B  B  B  O  O  A\n",
        "8  B  O  B  O  O  A  A  O  O  B  O  O  A  A\n",
        "9  B  B  O  B  B  B  B  B  O  B  A  A  B  O\n",
        "10 O  B  B  O  O  O  O  O  B  O  A  B  B  O\n",
        "11 B  O  O  B  B  O  B  B  B  O  A  A  B  O\n",
        "12 O  B  O  B  B  O  O  O  O  B  B  B  A  B\n",
        "13 O  B  B  O  O  O  O  O  O  O  A  A  A  B\n",
        "Current player: Arnold"
       ]
      },
      {
       "output_type": "stream",
       "stream": "stdout",
       "text": [
        "\n",
        "  "
       ]
      },
      {
       "output_type": "stream",
       "stream": "stdout",
       "text": [
        " 0  1  2  3  4  5  6  7  8  9  10 11 12 13\n",
        "0  A  A  A  A  O  O  O  A  A  B  B  O  O  O\n",
        "1  O  O  A  O  A  O  O  O  A  O  B  A  A  O\n",
        "2  O  O  O  A  O  A  A  A  O  O  B  B  A  A\n",
        "3  O  O  A  A  A  O  O  B  B  B  O  O  O  A\n",
        "4  A  O  O  A  O  O  B  B  A  A  A  A  A  O\n",
        "5  A  A  A  O  A  A  A  A  B  B  B  B  O  A\n",
        "6  O  A  B  B  B  O  O  O  A  A  O  B  O  A\n",
        "7  O  O  B  O  O  O  A  A  B  B  B  O  O  A\n",
        "8  B  O  B  O  O  A  A  O  O  B  O  O  A  A\n",
        "9  B  B  O  B  B  B  B  B  O  B  A  A  B  O\n",
        "10 O  B  B  O  O  O  O  O  B  O  A  B  B  O\n",
        "11 B  O  O  B  B  O  B  B  B  O  A  A  B  O\n",
        "12 O  B  O  B  B  O  O  O  O  B  B  B  A  B\n",
        "13 O  B  B  O  O  O  O  O  O  O  A  A  A  B\n",
        "Current player: Beatrix"
       ]
      },
      {
       "output_type": "stream",
       "stream": "stdout",
       "text": [
        "\n",
        "  "
       ]
      },
      {
       "output_type": "stream",
       "stream": "stdout",
       "text": [
        " 0  1  2  3  4  5  6  7  8  9  10 11 12 13\n",
        "0  A  A  A  A  O  O  O  A  A  B  B  O  O  O\n",
        "1  O  O  A  O  A  O  O  O  A  O  B  A  A  O\n",
        "2  O  O  O  A  O  A  A  A  O  O  B  B  A  A\n",
        "3  O  O  A  A  A  O  O  B  B  B  O  O  O  A\n",
        "4  A  O  O  A  O  O  B  B  A  A  A  A  A  O\n",
        "5  A  A  A  O  A  A  A  A  B  B  B  B  O  A\n",
        "6  O  A  B  B  B  O  O  O  A  A  O  B  O  A\n",
        "7  O  O  B  O  O  O  A  A  B  B  B  O  O  A\n",
        "8  B  O  B  O  O  A  A  O  O  B  O  O  A  A\n",
        "9  B  B  O  B  B  B  B  B  O  B  A  A  B  O\n",
        "10 O  B  B  O  O  O  O  O  B  O  A  B  B  O\n",
        "11 B  O  O  B  B  O  B  B  B  O  A  A  B  O\n",
        "12 O  B  O  B  B  O  O  O  O  B  B  B  A  B\n",
        "13 O  B  B  O  O  B  B  B  B  O  A  A  A  B\n",
        "\n"
       ]
      },
      {
       "output_type": "stream",
       "stream": "stdout",
       "text": [
        "   0  1  2  3  4  5  6  7  8  9  10 11 12 13\n",
        "0  A  A  A  A  O  O  O  A  A  B  B  O  O  O\n",
        "1  O  O  A  O  A  O  O  O  A  O  B  A  A  O\n",
        "2  O  O  O  A  O  A  A  A  O  O  B  B  A  A\n",
        "3  O  O  A  A  A  O  O  B  B  B  O  O  O  A\n",
        "4  A  O  O  A  O  O  B  B  A  A  A  A  A  O\n",
        "5  A  A  A  O  A  A  A  A  B  B  B  B  O  A\n",
        "6  O  A  B  B  B  O  O  O  A  A  O  B  O  A\n",
        "7  O  O  B  O  O  O  A  A  B  B  B  O  O  A\n",
        "8  B  O  B  O  O  A  A  O  O  B  O  O  A  A\n",
        "9  B  B  O  B  B  B  B  B  O  B  A  A  B  O\n",
        "10 O  B  B  O  O  O  O  O  B  O  A  B  B  O\n",
        "11 B  O  O  B  B  O  B  B  B  O  A  A  B  O\n",
        "12 O  B  O  B  B  O  O  O  O  B  B  B  A  B\n",
        "13 O  B  B  O  O  B  B  B  B  O  A  A  A  B\n",
        "\n",
        "Game over! And the winner is: Beatrix"
       ]
      },
      {
       "output_type": "stream",
       "stream": "stdout",
       "text": [
        "\n",
        "The final scores are...\n",
        "Arnold : 56\n",
        "Beatrix : 60\n"
       ]
      }
     ],
     "prompt_number": 25
    },
    {
     "cell_type": "code",
     "collapsed": false,
     "input": [
      "# Go on this link to see an animation of the game being played:\n",
      "# \n",
      "# https://imgflip.com/gif/8fmd8"
     ],
     "language": "python",
     "metadata": {},
     "outputs": [],
     "prompt_number": 26
    },
    {
     "cell_type": "code",
     "collapsed": false,
     "input": [
      "print \"This is the final board:\"\n",
      "print\n",
      "\n",
      "Image(filename='Random_Game/random31.png')"
     ],
     "language": "python",
     "metadata": {},
     "outputs": [
      {
       "output_type": "stream",
       "stream": "stdout",
       "text": [
        "This is the final board:\n",
        "\n"
       ]
      },
      {
       "metadata": {},
       "output_type": "pyout",
       "png": "[encoded data removed]",
       "prompt_number": 100,
       "text": [
        "<IPython.core.display.Image at 0x8c329e8>"
       ]
      }
     ],
     "prompt_number": 100
    },
    {
     "cell_type": "markdown",
     "metadata": {},
     "source": [
      "Clearly the board looks scattered. It does not appear as though the players are playing according to a particular strategy - which is good! This is what we would expect. There is no definite movement towards the middle, and the largest pieces are not always placed first."
     ]
    },
    {
     "cell_type": "heading",
     "level": 4,
     "metadata": {},
     "source": [
      "THE GREEDY PLAYER"
     ]
    },
    {
     "cell_type": "markdown",
     "metadata": {},
     "source": [
      "Hopefully the board of two Greedy players playing against each other will look different. The Greedy algorithm is based on a score function which weights. A score function - which we name \"eval_move\" - evaluates how good a move is given a particular player and a game. We know, based on the objectives of the game, that larger pieces are better, so our score function takes into account the size of the placement.\n",
      "\n",
      "In addition, we know that corners are important, since we want to minimize the number of future moves for our opponents, but maximize our own. Thus, our score function also takes into the difference between our opponents' corners and our own.\n",
      "\n",
      "However, we would like to generalize this score function such that the difference in corners and the size of the placement are not weighted equally. After all, perhaps it's more important to place large pieces - or perhaps it's more important to gain new corners? In order to make this possible, we define our score function in terms of weights as follows:"
     ]
    },
    {
     "cell_type": "markdown",
     "metadata": {},
     "source": [
      "For a particular placement $i$, we assign weights $W_0$, $W_1$ such that:\n",
      "\n",
      "$ size_i $ = size of placement\n",
      "\n",
      "$ cor_{my} $ = number of my corners\n",
      "\n",
      "$ cor_{opp} $ = number of opponent's corners\n",
      "\n",
      "$ n_{opp} $ = number of opponents\n",
      "\n",
      "then:\n",
      "\n",
      "$ GreedyEval_i = size_i W_0 + \\frac{\\sum{(cor_{my} - cor_{opp})}}{n_{opp}} W_1 $\n",
      "\n",
      "This returns a score for the placement.\n"
     ]
    },
    {
     "cell_type": "markdown",
     "metadata": {},
     "source": [
      "Notice that when $\\ \\ n_{opp} = 1 \\ \\ $ (as is the case in the two-player game), the second term of the evaluation reduces to the following:\n",
      "\n",
      "$ (cor_{my} - cor_{opp})W_1 $\n",
      "\n",
      "Recall that our Player class is only defined by a strategy, and if we would like to create Player's that play according to this Greedy algorithm with particular weights, then we need to be able to pass in weights when we instantiate a Player. Therefore, we create a Greedy subclass of Player that makes this possible."
     ]
    },
    {
     "cell_type": "code",
     "collapsed": false,
     "input": [
      "class Greedy(Player):\n",
      "    \"\"\"\n",
      "    Greedy is a subclass of player that initializes with an additional parameter called weights.\n",
      "    Weights is a list of ints that determines what preference the greedy player gives to components\n",
      "    of our score function. \n",
      "    \"\"\"\n",
      "    def __init__(self, label, name, strategy, weights):\n",
      "        self.label = label\n",
      "        self.name = name\n",
      "        self.pieces = []\n",
      "        self.corners = set()\n",
      "        self.strategy = strategy\n",
      "        self.score = 0\n",
      "        self.weights = weights\n",
      "        \n",
      "    def do_move(self, game):\n",
      "        \"\"\"\n",
      "        Generates a move according to the Player's\n",
      "        strategy and current state of the board.\n",
      "        \"\"\"\n",
      "        return self.strategy(self, game, self.weights)"
     ],
     "language": "python",
     "metadata": {},
     "outputs": []
    },
    {
     "cell_type": "code",
     "collapsed": false,
     "input": [
      "def eval_move(piece, player, game, weights):\n",
      "    \"\"\"\n",
      "    Takes in a single Piece object and a Player object and returns a integer score that \n",
      "    evaluates how \"good\" the Piece move is. Defined here because used by both Greedy and Minimax.\n",
      "    \"\"\"\n",
      "\n",
      "    def check_corners(player):\n",
      "        \"\"\"\n",
      "        Updates the corners of the player in the test board (copy), in case the\n",
      "        corners have been covered by another player's pieces.\n",
      "        \"\"\"\n",
      "        player.corners = set([(i,j) for (i,j) in player.corners if test_board.state[j][i] == game.board.null])\n",
      "        \n",
      "    # get board\n",
      "    board = game.board\n",
      "    # create a copy of the players in the game\n",
      "    test_players = copy.deepcopy(game.players)\n",
      "    # create a list of the opponents in the game\n",
      "    opponents = [opponent for opponent in test_players if opponent.label != player.label]\n",
      "    # create a copy of the board\n",
      "    test_board = copy.deepcopy(board)\n",
      "    # update the copy of the board with the Piece placement\n",
      "    test_board.update(player, piece.points)\n",
      "    # create a copy of the player currently playing\n",
      "    test_player = copy.deepcopy(player)\n",
      "    # update the current player (update corners) with the current Piece placement\n",
      "    test_player.update_player(piece, test_board)\n",
      "    # calculate how many corners the current player has\n",
      "    my_corners = len(test_player.corners)\n",
      "    # update the corners for all opponents    \n",
      "    map(check_corners, opponents)\n",
      "    # calculate the mean of the corners of the opponents\n",
      "    opponent_corners = [len(opponent.corners) for opponent in opponents]\n",
      "    # find the difference between the number of corners the current player has and and the \n",
      "    # mean number of corners the opponents have\n",
      "    corner_difference = np.mean([my_corners - opponent_corner for opponent_corner in opponent_corners])\n",
      "    # return the score = size + difference in the number of corners\n",
      "    return (piece, weights[0] * piece.size + weights[1] * corner_difference)"
     ],
     "language": "python",
     "metadata": {},
     "outputs": []
    },
    {
     "cell_type": "code",
     "collapsed": false,
     "input": [
      "# The Greedy algorithm uses the available Shape with the highest area every time.\n",
      "# If the Shape with the highest area is not able to be placed, the algorithm moves\n",
      "# to the second-largest Shape... and so on.\n",
      "\n",
      "# weights[0] determines how important size of a piece is\n",
      "# weights[1] determines how important maximizing the difference of my corners and opponent corners\n",
      "\n",
      "def Greedy_Player(player, game, weights):\n",
      "    \"\"\"\n",
      "    Takes in a Player object and Game object and returns a placement in the form of a\n",
      "    single piece object with a proper flip, orientation, corners, and points.\n",
      "    If no placement can be made, function should return None.\n",
      "    \"\"\"\n",
      "    \n",
      "    # create copy of player's pieces (no destructively altering player's pieces)\n",
      "    shape_options = [p for p in player.pieces]\n",
      "    board = game.board\n",
      "    \n",
      "    def greedy_move():\n",
      "        \"\"\"\n",
      "        Returns the greediest move.\n",
      "        \"\"\"\n",
      "        # create an empty list that will contain all the possible moves with their respective scores\n",
      "        final_moves = []\n",
      "        # for each piece, calculate all possible placements, and for each placement, calculate the score\n",
      "        # of the move; add (move, score) to the list of final moves\n",
      "        for piece in shape_options:\n",
      "            # calculate all possible placements for the current piece\n",
      "            possibles = player.possible_moves([piece], game)\n",
      "            # if there are possible placements for the current piece:\n",
      "            if possibles != []:\n",
      "                def map_eval(piece):\n",
      "                    return eval_move(piece, player, game, weights)\n",
      "                # calculate score for each move and store it in a temporary list\n",
      "                tmp = map(map_eval, possibles)\n",
      "                # add all the elements in the temporary list in the final moves lsit\n",
      "                final_moves.extend(tmp)\n",
      "            # if there are no possible placements for the current piece:\n",
      "            else: \n",
      "                # remove the piece from the list of pieces\n",
      "                shape_options.remove(piece)\n",
      "                \n",
      "        # create score list that contains all Piece placements, sorted by their score        \n",
      "        by_score = sorted(final_moves, key = lambda move: move[1], reverse = True)\n",
      "        # if the score list contains Piece placements (objects), return the highest scoring Piece placement\n",
      "        if len(by_score) > 0:\n",
      "            return by_score[0][0]\n",
      "        # else, return None (no Piece placement)\n",
      "        else: return None\n",
      "        \n",
      "    # while there are shapes to place down, perform a greedy move\n",
      "    return greedy_move()"
     ],
     "language": "python",
     "metadata": {},
     "outputs": []
    },
    {
     "cell_type": "code",
     "collapsed": false,
     "input": [
      "# Of course, test out the Greedy algorithm.\n",
      "# Create Ana (Greedy Player) and Banana (Random Player).\n",
      "\n",
      "ana = Greedy(\"A\", \"Ana\", Greedy_Player, [3, 1])\n",
      "banana = Greedy(\"B\", \"Banana\", Greedy_Player, [1, 2])\n",
      "\n",
      "standard_size = Board(14, 14, \"O\")\n",
      "\n",
      "greedyblokus = Blokus([ana, banana], standard_size, All_Shapes)"
     ],
     "language": "python",
     "metadata": {},
     "outputs": []
    },
    {
     "cell_type": "code",
     "collapsed": false,
     "input": [
      "# Play Ana and Banana against each other. Notice that they\n",
      "# are using different weights for their score functions. Who will win?\n",
      "\n",
      "greedyblokus.play()\n",
      "\n",
      "while greedyblokus.winner() == \"None\":\n",
      "    greedyblokus.play()\n",
      "    greedyblokus.board.print_board(num = greedyblokus.rounds, fancy = False)\n",
      "    \n",
      "print \n",
      "greedyblokus.board.print_board()\n",
      "print \n",
      "greedyblokus.play()\n",
      "\n",
      "print \"The final scores are...\"\n",
      "\n",
      "by_name = sorted(greedyblokus.players, key = lambda player: player.name)\n",
      "\n",
      "for p in by_name:\n",
      "    print p.name + \" : \" + str(p.score)"
     ],
     "language": "python",
     "metadata": {},
     "outputs": []
    },
    {
     "cell_type": "heading",
     "level": 4,
     "metadata": {},
     "source": [
      "THE MINIMAX PLAYER"
     ]
    },
    {
     "cell_type": "markdown",
     "metadata": {},
     "source": [
      "A Minimax player is essentially just an extension of a a Greedy player that does not only evaluate the current move but looks ahead at future moves. A true Minimax player would look at all possibilities until the end of the game in order to determine his/her next move, but this is computationally infeasible. Therefore, we have chosen to look ahead two moves."
     ]
    },
    {
     "cell_type": "markdown",
     "metadata": {},
     "source": [
      "For a particular placement $i$, we assign weights $W_0$, $W_1$, $W_2$, $W_3$, $W_4$ such that:\n",
      "\n",
      "$ size_{j,i} $ = size of $j$th placement\n",
      "\n",
      "$ cor_{j,my} $ = number of my corners at $j$th placement\n",
      "\n",
      "$ cor_{j,opp} $ = number of opponent's corners at $j$th placement\n",
      "\n",
      "$ n_{opp} $ = number of opponents\n",
      "\n",
      "$ W_2 $ = number of best placements from initial move that are chosen to run Minimax\n",
      "\n",
      "then:\n",
      "\n",
      "$ MinimaxEval_{W_2, i} = W_4 \\left [ size_{1,i} W_1 + \\frac{\\sum{(cor_{1,my} - cor_{1,opp})}}{n_{opp}} W_2 \\right ]\n",
      "+ W_3 \\left [ size_{2,i} W_1 + \\frac{\\sum{(cor_{2,my} - cor_{2,opp})}}{n_{opp}} W_2 \\right ]$\n",
      "\n",
      "This returns a score for the placement.\n"
     ]
    },
    {
     "cell_type": "code",
     "collapsed": false,
     "input": [
      "# weights[0] determines how important size of a piece is\n",
      "# weights[1] determines how important maximizing the difference of my corners and opponent corners\n",
      "# weights[2] decides how many of the best placements we choose to look ahead with\n",
      "# weights[3] decides how important the score of the second move is\n",
      "# weights[4] decides how important the score of the first move is\n",
      "\n",
      "def Minimax_Player(player, game, weights):\n",
      "    \n",
      "    # takes in a player and a board, and updates the player's corners depending on the state of the board\n",
      "    def check_corners(player, board):\n",
      "        \"\"\"\n",
      "        Updates the corners of the player in the test board (copy), in case the\n",
      "        corners have been covered by another player's pieces.\n",
      "        \"\"\"\n",
      "        player.corners = set([(i,j) for (i,j) in player.corners if board.state[j][i] == game.board.null])\n",
      "    \n",
      "    # create a copy of the player's pieces\n",
      "    shape_options = [p for p in player.pieces]\n",
      "    # determine all possible moves\n",
      "    possibles = player.possible_moves(shape_options, game)\n",
      "    final_choices = []\n",
      "    # if there are possible moves:\n",
      "    if possibles != []:\n",
      "        # function for evaluating moves (for mapping purposes)\n",
      "        def eval_map (piece):\n",
      "            return eval_move(piece, player, game, weights)\n",
      "        # evaluate every possible move\n",
      "        candidate_moves = map(eval_map, possibles)\n",
      "        # create list of tuples (piece, score), sorted by score\n",
      "        by_score = sorted(candidate_moves, key = lambda move: move[1], reverse = True)\n",
      "        \n",
      "        # take at most the n highest scoring moves\n",
      "        if len(by_score) > weights[2]:\n",
      "            top_choices = by_score[:weights[2]]\n",
      "        else:\n",
      "            top_choices = by_score\n",
      "        \n",
      "        for (piece, score) in top_choices:\n",
      "            # create a copy of the game\n",
      "            game_copy = copy.deepcopy(game)\n",
      "            # get board from the game copy (we will be playing on this board)\n",
      "            board = game_copy.board\n",
      "            # create a copy of the players in the game\n",
      "            test_players = copy.deepcopy(game.players)\n",
      "            # create a list of the opponents in the game\n",
      "            opponents = [opponent for opponent in test_players if opponent.label != player.label]\n",
      "            # create a copy of the player currently playing\n",
      "            test_player = copy.deepcopy(player)\n",
      "            # update the copy of the board with the Piece placement\n",
      "            board.update(test_player, piece.points)\n",
      "            # update the current player (update corners) with the current Piece placement\n",
      "            test_player.update_player(piece, board)\n",
      "            \n",
      "            # update the corners for all opponents \n",
      "            def check_cor_map(opponent):\n",
      "                return check_corners(opponent, board)\n",
      "            map(check_cor_map, opponents)\n",
      "            \n",
      "            # create a copy of the pieces that the current player has\n",
      "            piece_copies = copy.deepcopy(shape_options)\n",
      "            # remove the Piece that was just placed on the board\n",
      "            piece_copies = [p for p in piece_copies if p.ID != piece.ID]\n",
      "            \n",
      "            # OPPONENTS' TURN TO PLACE PIECE\n",
      "            \n",
      "            # for each opponent:\n",
      "            for opponent in opponents:\n",
      "                # create a list of tuples (size, piece) for the opponent, sorted by size\n",
      "                by_size_op = sorted([(shape.size, shape) for shape in opponent.pieces], reverse = True)\n",
      "                # extract pieces from by_size_op list\n",
      "                by_size_op_pieces = [piece_by_size[1] for piece_by_size in by_size_op]\n",
      "                # create a list of all the opponent's possible moves\n",
      "                possibles_op = opponent.possible_moves(by_size_op_pieces, game_copy)\n",
      "                # if there are possible moves left:\n",
      "                if possibles_op != []:\n",
      "                    # create an empty list to store evaluations of possible moves\n",
      "                    final_moves_op = []\n",
      "                    # evaluate every possible move; store in final_moves_op\n",
      "                    for poss in possibles_op:\n",
      "                        final_moves_op.append(eval_move(poss, opponent, game_copy, weights))\n",
      "                    # create list of tuples (piece, score), sorted by score\n",
      "                    by_score_op = sorted(final_moves_op, key = lambda move: move[1], reverse = True)\n",
      "                    # take the highest scoring move\n",
      "                    best_move = by_score_op[0][0]\n",
      "                    # update the board with the highest scoring move\n",
      "                    board.update(opponent, best_move.points)\n",
      "                    # create a list of the other opponents\n",
      "                    #other_opponents = [enemy for enemy in game_copy.players if enemy.label != opponent.label]\n",
      "                    # update the corners of the other opponents\n",
      "                    map(check_cor_map, test_players)\n",
      "                # if there are no possible moves left for the opponent, return the piece\n",
      "                else: return piece\n",
      "                \n",
      "            # BOARD HAS BEEN UPDATED; OPPONENTS HAVE FINISHED THEIR TURNS\n",
      "            \n",
      "            # create list of all possible moves\n",
      "            possibles_2 = test_player.possible_moves(piece_copies, game_copy)\n",
      "            # if there are possible moves left:\n",
      "            if possibles_2 != []:\n",
      "                final_moves_2 = []\n",
      "                # evaluate each move; append to list of tuples (piece, score)\n",
      "                for possible in possibles_2:\n",
      "                    final_moves_2.append(eval_move(possible, test_player, game_copy, weights))\n",
      "                # create a list of tuples (piece, score), sorted by score\n",
      "                by_score_2 = sorted(final_moves_2, key = lambda move: move[1], reverse = True)\n",
      "                # calculate the best score for each initial piece (can be weighted differently)\n",
      "                best_score = weights[3] * by_score_2[0][1] + weights[4] * score\n",
      "                # append initial piece plus potential score to final_choices\n",
      "                final_choices.append((piece, best_score))\n",
      "            # if there are no possible moves left, add the first played piece to the final_choices list\n",
      "            else: final_choices.append((piece, score))\n",
      "            \n",
      "        # sort the list of final_choices by score\n",
      "        final_choices = sorted(final_choices, key = lambda move: move[1], reverse = True)\n",
      "        # return the highest scoring move\n",
      "        return final_choices[0][0]\n",
      "    \n",
      "    # if there are no possible moves left, return None\n",
      "    else: return None"
     ],
     "language": "python",
     "metadata": {},
     "outputs": []
    },
    {
     "cell_type": "code",
     "collapsed": false,
     "input": [
      "# create Arya (Minimax Player) and Baraz (Greedy Player)\n",
      "arya = Greedy(\"A\", \"Arya\", Minimax_Player, [2, 1, 10, 1, 1])\n",
      "baraz = Greedy(\"B\", \"Baraz\", Greedy_Player, [1, 2])\n",
      "\n",
      "standard_size = Board(14, 14, \"O\")\n",
      "\n",
      "minimaxblokus = Blokus([arya, baraz], standard_size, All_Shapes)"
     ],
     "language": "python",
     "metadata": {},
     "outputs": []
    },
    {
     "cell_type": "code",
     "collapsed": false,
     "input": [
      "minimaxblokus.play()\n",
      "minimaxblokus.board.print_board(num = minimaxblokus.rounds, fancy = False)\n",
      "\n",
      "while minimaxblokus.winner() == \"None\":\n",
      "    minimaxblokus.play()\n",
      "    minimaxblokus.board.print_board(num = minimaxblokus.rounds, fancy = False)\n",
      "\n",
      "print \n",
      "minimaxblokus.board.print_board()\n",
      "print \n",
      "minimaxblokus.play()\n",
      "\n",
      "print \"The final scores are...\"\n",
      "\n",
      "by_name = sorted(minimaxblokus.players, key = lambda player: player.name)\n",
      "\n",
      "for p in by_name:\n",
      "    print p.name + \" : \" + str(p.score)"
     ],
     "language": "python",
     "metadata": {},
     "outputs": []
    },
    {
     "cell_type": "heading",
     "level": 4,
     "metadata": {},
     "source": [
      "USER INPUT"
     ]
    },
    {
     "cell_type": "markdown",
     "metadata": {},
     "source": [
      "Finally, we would like to make it possible for a user to specify input as well. A game is no fun if it's just a computer playing against itself! The function that will allow user input will still be a strategy function that we pass into a Player object.\n",
      "\n",
      "This step required a lot of design choices. How easy or hard should it be for a user to place a piece? Some of our options included simply listing all of the possible moves and having our user pick one. We could also let them specify a corner on the board and a piece and then randomly choose a placement for them... but does this really allow the user to play the game?\n",
      "\n",
      "What we ended up implementing was a combination of the two: a user specifies the reference point and piece of a placement. The user will know the reference points because we will display the map of pieces at the start of the game. Knowing the reference point and a piece, we can then provide the user with either a unique move that will automatically be played, or a list of the moves possible with that reference point and piece. The advantage of this method is that users don't have to specify flips and rotations!"
     ]
    },
    {
     "cell_type": "code",
     "collapsed": false,
     "input": [
      "def User_Player(player, game):\n",
      "    \"\"\"\n",
      "    User Player takes in a player and a game. It is passed into\n",
      "    a Player object as a strategy. A user should input two things: a piece and\n",
      "    a coordinate for the refpt. This combination will yield a move that\n",
      "    will be passed on to the Game.\n",
      "    \"\"\"\n",
      "    def get_input():\n",
      "        s = True\n",
      "        while s:\n",
      "            try:\n",
      "                s = map(int, raw_input(\"Please input a reference point: \").split())\n",
      "                while len(s) != 2:\n",
      "                    s = map(int, raw_input(\"Please input a valid reference point (x,y): \").split())\n",
      "                else: return s  \n",
      "            except:\n",
      "                print \"Invalid coordinate input.\"\n",
      "                s = True\n",
      "\n",
      "    if player.pieces == []:\n",
      "        print \"\\nSorry! You can't play any more moves since you have placed all your pieces.\\n\"\n",
      "        return None\n",
      "    \n",
      "    possibles = player.possible_moves(player.pieces, game)\n",
      "    options = []\n",
      "    \n",
      "    if possibles == []:\n",
      "        print \"\\nSorry! There are no more possible moves for you.\\n\"\n",
      "        return None\n",
      "    \n",
      "    while options == []:\n",
      "        shape = (raw_input(\"Choose a shape: \")).upper().strip()\n",
      "        while not (shape in [p.ID for p in player.pieces]):\n",
      "            print (\"\\nPlease enter a valid piece ID. Remember these are the pieces available to you: \"\n",
      "            + str([p.ID for p in player.pieces]) + \"\\n\")\n",
      "            shape = (raw_input(\"Choose a shape: \")).upper()\n",
      "        \n",
      "        refpt = get_input()\n",
      "        while not game.board.in_bounds((refpt[0], refpt[1])):\n",
      "            print (\"\\nPlease enter a point that is in bounds. Remember the dimensions of the board: \" + str(game.board.size) + \"\\n\")\n",
      "            refpt = get_input()\n",
      "        while game.board.overlap([(refpt[0], refpt[1])]):\n",
      "            print \"\\nIt appears the point you chose overlaps with another piece! Please choose an empty square.\\n\"\n",
      "            refpt = get_input()\n",
      "\n",
      "        for piece in possibles:\n",
      "            if piece.ID == shape and piece.points[0][0] == refpt[0] and piece.points[0][1] == refpt[1]:\n",
      "                options.append(piece)\n",
      "        \n",
      "        if options == []:\n",
      "            print \"\\nOh no! It appears you have chosen an invalid shape and reference point combination. Please try again!\\n\"\n",
      "    \n",
      "    if len(options) == 1:\n",
      "        return options[0]\n",
      "    \n",
      "    if len(options) > 1:\n",
      "        print \"\\nIt appears you have multiple placement options! Please choose one.\\n\"\n",
      "        for i in xrange(len(options)):\n",
      "            print (str(i) + str(\" : \") + str(options[i].points) + \"\\n\")\n",
      "        pick = int(raw_input(\"Your pick: \"))\n",
      "        while not (pick in xrange(len(options))):\n",
      "            print \"\\nOops! Try a valid pick again.\\n\"\n",
      "            for i in xrange(len(options)):\n",
      "                print (str(i) + str(\" : \") + str(options[i].points) + \"\\n\")\n",
      "            pick = int(raw_input(\"Your pick: \"))\n",
      "        return options[pick]"
     ],
     "language": "python",
     "metadata": {},
     "outputs": []
    },
    {
     "cell_type": "markdown",
     "metadata": {},
     "source": [
      "Though we were initially going to allow users to play only against the Minimax algorithm, we decided that we should let users decide which of our three strategies to play against! Including this cute feature ended up being quite simple."
     ]
    },
    {
     "cell_type": "code",
     "collapsed": false,
     "input": [
      "# INSTRUCTIONS & INITIALIZATION FOR USER GAME\n",
      "\n",
      "print (\"\\n \\n Welcome to Blokus! \\n \\n \\n Blokus is a geometrically abstract, strategy board game. \" +\n",
      "       \"It can be a two- or four-player game. Each player has 21 pieces of a different color. \" +\n",
      "       \"The two-player version of the board has 14 rows and 14 columns. \\n \\n You will be playing \" +\n",
      "       \"a two-player version against an algorithm of your choice: Random, Greedy, or Minimax. \" +\n",
      "       \"In case you need to review the rules of Blokus, please follow this link: http://en.wikipedia.org/wiki/Blokus. \" +\n",
      "       \"\\n \\n This is how choosing a move is going to work: after every turn, we will display the current state of \" +\n",
      "       \"the board, as well as the scores of each player and the pieces available to you. We have provided you with \" +\n",
      "       \"a map of the names of the pieces, as well as their reference points, denoted by red dots. When you would like \" +\n",
      "       \"to place a piece, we will prompt you for the name of the piece and the coordinate (column, row) of the reference \" +\n",
      "       \"point. If multiple placements are possible, we will let you choose which one you would like to play. \\n \\n Good luck! \\n \\n\")\n",
      "\n",
      "# Displaying this is what allows users to know the reference points of each piece.\n",
      "img = Image.open('Images/Blokus_Tiles.png')\n",
      "img.show()\n",
      "\n",
      "print \"Please choose an algorithm to play against: \\n A. Random \\n B. Greedy \\n C. Minimax \\n\"\n",
      "\n",
      "choice = raw_input().upper()\n",
      "\n",
      "while not (choice in [\"A\", \"B\", \"C\"]):\n",
      "    choice = raw_input(\"\\n Please choose a valid algorithm: \\n\").upper()\n",
      "\n",
      "if choice == \"A\":\n",
      "    computer = Player(\"A\", \"Computer\", Random_Player)\n",
      "elif choice == \"B\":\n",
      "    computer = Greedy(\"A\", \"Computer\", Greedy_Player, [2, 1, 5, 1, 1])\n",
      "else:\n",
      "    computer = Greedy(\"A\", \"Computer\", Minimax_Player, [2, 1, 5, 1, 1])\n",
      "\n",
      "user = Player(\"B\", \"User\", User_Player)"
     ],
     "language": "python",
     "metadata": {},
     "outputs": []
    },
    {
     "cell_type": "code",
     "collapsed": false,
     "input": [
      "# Set up the board and the game.\n",
      "\n",
      "standard_size = Board(14, 14, \"_\")\n",
      "\n",
      "ordering = [computer, user]\n",
      "random.shuffle(ordering)\n",
      "userblokus = Blokus(ordering, standard_size, All_Shapes)"
     ],
     "language": "python",
     "metadata": {},
     "outputs": []
    },
    {
     "cell_type": "code",
     "collapsed": false,
     "input": [
      "userblokus.board.print_board(num = userblokus.rounds, fancy = False)\n",
      "print \"\\n\"\n",
      "userblokus.play()\n",
      "userblokus.board.print_board(num = userblokus.rounds, fancy = False)\n",
      "print \"\\n\"\n",
      "\n",
      "while userblokus.winner() == \"None\":\n",
      "    userblokus.play()\n",
      "    userblokus.board.print_board(num = userblokus.rounds, fancy = False)\n",
      "    print \"\\n\"\n",
      "    for p in userblokus.players:\n",
      "        print p.name + \" (\" + str(p.score) + \") : \" + str([s.ID for s in p.pieces])\n",
      "        print \n",
      "    print \"=======================================================================\"\n",
      "\n",
      "print \n",
      "userblokus.board.print_board()\n",
      "print \n",
      "userblokus.play()\n",
      "\n",
      "print \"The final scores are...\"\n",
      "\n",
      "by_name = sorted(userblokus.players, key = lambda player: player.name)\n",
      "\n",
      "for p in by_name:\n",
      "    print p.name + \" : \" + str(p.score)"
     ],
     "language": "python",
     "metadata": {},
     "outputs": []
    },
    {
     "cell_type": "heading",
     "level": 3,
     "metadata": {},
     "source": [
      "Conclusion"
     ]
    },
    {
     "cell_type": "markdown",
     "metadata": {},
     "source": [
      "So, what have we learned? It appears that our strategies Greedy and Minimax, when optimizing piece choices according to our score function, place pieces just as we suspected: larger pieces that approach the center of the board as quickly as possible. Additionally, we learned that the interactions between these classes to create a game as - seemingly - simple as Blokus can be quite complex!\n",
      "\n",
      "Not only did we make it possible for users to play against our algorithms, we also implemented our game in such a way that anyone can take our code and extend this game into other - even obscure! - variants. For example, one could add pieces to the game, or play on a 100 by 100 board. Of course, a natural extension would be simply adding additional players.\n",
      "\n",
      "In short, our project was successful in implementing the game Blokus, building various solvers, and even making user input possible. We hope you've had fun learning about Blokus!"
     ]
    },
    {
     "cell_type": "markdown",
     "metadata": {},
     "source": [
      "---\n",
      "*CSS adjustments. Please do not alter.*\n",
      "<style>\n",
      "div.text_cell_render {\n",
      "    line-height: 150%;\n",
      "    font-size: 110%;\n",
      "    width: 800px;\n",
      "    margin-left:50px;\n",
      "    margin-right:auto;\n",
      "    }\n",
      "</style>"
     ]
    }
   ],
   "metadata": {}
  }
 ]
}